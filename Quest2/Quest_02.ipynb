{
 "cells": [
  {
   "cell_type": "markdown",
   "metadata": {
    "colab_type": "text",
    "id": "view-in-github"
   },
   "source": [
    "<a href=\"https://colab.research.google.com/github/HWMV/AIFFEL_Quest1/blob/master/Quest2/Quest_02.ipynb\" target=\"_parent\"><img src=\"https://colab.research.google.com/assets/colab-badge.svg\" alt=\"Open In Colab\"/></a>"
   ]
  },
  {
   "cell_type": "markdown",
   "metadata": {
    "id": "rcY0QgqgHWur"
   },
   "source": [
    "[파이썬] 퀘스트: 거북이 미로찾기\n",
    "\n",
    "난이도: ★★★☆☆\n",
    "\n",
    "장르: ColabTurtlePlus, 함수, 조건문 활용\n",
    "\n",
    "---\n",
    "\n",
    "다음은 ColabTurtle을 사용하여 미로를 찾는 문제.\n",
    "조건을 확인하여 거북이가 미로를 헤매지 않도록 출구를 찾아주도록 하자.\n",
    "\n",
    "조건 :\n",
    "미로는 5x5의 2차원 리스트로 주어진다.\n",
    "시작 위치는 (0,0)이고 목적지는 (4,4)이다.\n",
    "터틀은 상하좌우로 움직일 수 있다.\n",
    "미로 내에서 갈 수 있는 길은 0으로 표시되어 있다.\n",
    "터틀이 이미 지나간 길은 2로 표시해야한다.\n",
    "거북이가 미로를 찾아 나가면 \"미로를 찾았습니다.\",\n",
    "미로를 찾을 수 없으면 \"미로를 찾을 수 없습니다.\"가 나올 수 있도록 만들어보자!\n",
    "\n",
    "- 주석으로 구현 내용이 써있는 부분을 코드로 채워주세요!!\n",
    "- 코드를 해석해주세요 부분은 코드에 대한 설명을 주석으로 써주세요!!\n",
    "\n",
    "결과물은 다음과 같아야 합니다 :)\n",
    "\n",
    "![image.png](data:image/png;base64,iVBORw0KGgoAAAANSUhEUgAAAGkAAABpCAIAAAC24JptAAACrElEQVR4nO3dP2vqUBzG8dNLUSg46CTZzeauo27OOutLEMRJIQpxyStwFWddXBxEcHMIDiFb3BycEqIiKDikg8Pt9WpaHu6NR3g+S0P+4OHLryFtKH3L5XKCIL+evYAX9n79slwun7uOF5LP568bnDsc2+HYDsd2OLa7ValUKpXKT858/99LeS22bU8mkyAIbNvOZrPhJ3Pu/tBqtS6XSyKRqNfr357Mdr/NZrP5fC6E8H1/tVrNZrPw8+X9nu12u+v1WlXVu0cdxxFC/Nuj/X7/dDpdtw+HQ7PZtCwrZIXyzt16vd5ut5F9nGVZ+/3+657NZjMcDkMukXfuVFVVVbXT6UTzcel0+nw+f92z2+3a7Xa1Wn10ibxzFyXDMI7H43U7Foslk8nrtu/7hmE8uorthOu6mqYFQSCEqNVq0+l0PB6Xy2UhRBAEmqa5rnv3QrYTpmnG4/Fer+d53mAwKBaLhUJhNBp5ntdoND4+PkzTvHuhvPe7yJRKpcPh8Pf+VCql67qu648u5Nzh2A7Hdjh573fXp3+Zce5w8s7do59G5cG5w7Edju1wbIdjOxzb4dgOJ+/zneM4Ib9zdxwnk8l0u90ol3RD3naZTCbkaJSvMh6Rt91zZ+oneL/DsR2O7XBsh2M7HNvh2A4n7/NdOBneZnDucK86dzK8zeDc4dgOx3Y4tsOxHY7tcGyHk/f5LvzvKxaLhaIoES/pxqvOnaIo4S80IiD13D17Cd941bmTAdvh2A7Hdji2w7Edju1wbIdjOxzb4dgOx3Y4tsOxHY7tcGyHYzsc2+HYDsd2OLbDsR2O7XBsh2M7HNvh2A7Hdji2w7Edju1wbIdjOxzb4dgOx3Y4tsOxHY7tcGyHYzsc2+HYDsd2OLbDsR2O7XBsh3vj/3mHce5wbIf7BCpkq4fB2TGFAAAAAElFTkSuQmCC)"
   ]
  },
  {
   "cell_type": "code",
   "execution_count": null,
   "metadata": {},
   "outputs": [],
   "source": [
    "# !pip install ColabTurtlePlus\n",
    "# !pip3 install pip install bs4 --root-user-action=ignore"
   ]
  },
  {
   "cell_type": "code",
   "execution_count": 1,
   "metadata": {
    "colab": {
     "base_uri": "https://localhost:8080/",
     "height": 247
    },
    "id": "2j2x3thdGexU",
    "outputId": "edf7ba16-68c2-426c-e80e-40a15814e76b"
   },
   "outputs": [
    {
     "name": "stdout",
     "output_type": "stream",
     "text": [
      "Put clearscreen() as the first line in a cell (after the import command) to re-run turtle commands in the cell\n"
     ]
    },
    {
     "data": {
      "text/html": [
       "\n",
       "      <svg width=\"100\" height=\"100\">  \n",
       "        <rect width=\"100%\" height=\"100%\" style=\"fill:white;stroke:;stroke-width:1\"/>\n",
       "        \n",
       "        \n",
       "        <line x1=\"50.0\" y1=\"50.0\" x2=\"50.0\" y2=\"50.0\" stroke-linecap=\"round\" style=\"stroke:black;stroke-width:1\" /><line x1=\"50.0\" y1=\"50.0\" x2=\"60.0\" y2=\"50.0\" stroke-linecap=\"round\" style=\"stroke:black;stroke-width:1\" /><line x1=\"60.0\" y1=\"50.0\" x2=\"60.0\" y2=\"40.0\" stroke-linecap=\"round\" style=\"stroke:black;stroke-width:1\" /><line x1=\"60.0\" y1=\"40.0\" x2=\"60.0\" y2=\"30.0\" stroke-linecap=\"round\" style=\"stroke:black;stroke-width:1\" /><line x1=\"60.0\" y1=\"30.0\" x2=\"50.0\" y2=\"30.0\" stroke-linecap=\"round\" style=\"stroke:black;stroke-width:1\" /><line x1=\"50.0\" y1=\"30.0\" x2=\"50.0\" y2=\"20.0\" stroke-linecap=\"round\" style=\"stroke:black;stroke-width:1\" /><line x1=\"50.0\" y1=\"20.0\" x2=\"50.0\" y2=\"10.0\" stroke-linecap=\"round\" style=\"stroke:black;stroke-width:1\" /><line x1=\"50.0\" y1=\"10.0\" x2=\"60.0\" y2=\"10.0\" stroke-linecap=\"round\" style=\"stroke:black;stroke-width:1\" /><line x1=\"60.0\" y1=\"10.0\" x2=\"70.0\" y2=\"10.0\" stroke-linecap=\"round\" style=\"stroke:black;stroke-width:1\" /><line x1=\"70.0\" y1=\"10.0\" x2=\"80.0\" y2=\"10.0\" stroke-linecap=\"round\" style=\"stroke:black;stroke-width:1\" /><line x1=\"80.0\" y1=\"10.0\" x2=\"90.0\" y2=\"10.0\" stroke-linecap=\"round\" style=\"stroke:black;stroke-width:1\" />\n",
       "        \n",
       "        \n",
       "        <g id=\"classic\" visibility=\"visible\" transform=\"rotate(-180.0,90.0,10.0) translate(90.0, 10.0)\">\n",
       "<polygon points=\"-5,-4.5 0,-2.5 5,-4.5 0,4.5\" transform=\"skewX(0) scale(1,1)\" style=\"stroke:black;fill:black;stroke-width:1\" />\n",
       "</g>\n",
       "      </svg>\n",
       "    "
      ],
      "text/plain": [
       "<IPython.core.display.HTML object>"
      ]
     },
     "metadata": {},
     "output_type": "display_data"
    },
    {
     "name": "stdout",
     "output_type": "stream",
     "text": [
      "미로를 찾았습니다\n",
      "[[0, 1, 2, 2, 2],\n",
      " [2, 2, 2, 1, 2],\n",
      " [0, 1, 1, 0, 2],\n",
      " [0, 0, 1, 1, 2],\n",
      " [0, 0, 0, 0, 2]]\n"
     ]
    }
   ],
   "source": [
    "from ColabTurtlePlus.Turtle import * # ColabTurtle 라이브러리에서 Turtle 클래스를 import\n",
    "\n",
    "\n",
    "# 미로 데이터\n",
    "maze = [\n",
    "    [0, 1, 0, 0, 0],\n",
    "    [0, 0, 0, 1, 0],\n",
    "    [0, 1, 1, 0, 0],\n",
    "    [0, 0, 1, 1, 0],\n",
    "    [0, 0, 0, 0, 0]\n",
    "]\n",
    "\n",
    "# 시작 위치와 목적지 위치\n",
    "start_x, start_y = 0, 0\n",
    "end_x, end_y = 4, 4\n",
    "\n",
    "# 터틀 초기 설정\n",
    "window = (100, 100)\n",
    "initializeTurtle(window, 'logo')\n",
    "speed(1)\n",
    "\n",
    "# 미로 찾기 알고리즘\n",
    "def solve_maze(x, y):\n",
    "  # 목적지에 도착한 경우(조건문)\n",
    "  if x == 4 and y == 4:\n",
    "    # \"미로를 찾았습니다\" 라는 문장을 출력하고\n",
    "    print(\"미로를 찾았습니다\")\n",
    "  # True를 반환한다.\n",
    "    return True  # 오류 발생! 들여쓰기 if에 맞춰져 있어서 안 움직임\n",
    "\n",
    "    # 현재 위치에서 갈 수 있는 방향 탐색\n",
    "  for dx, dy in [(0, 1), (1, 0), (0, -1), (-1, 0)]: # 상, 우, 하, 좌 \n",
    "        nx, ny = x + dx, y + dy\n",
    "        # 미로 범위(0,0 ~ 4,4) 내에 있고, 갈 수 있는 길인 경우\n",
    "        if 0 <= nx <= 4 and 0 <= ny <= 4 and maze[nx][ny] == 0:\n",
    "          # return True\n",
    "          # 갔던 길 표시\n",
    "          maze[nx][ny] = 2\n",
    "            # 다음 위치로 이동\n",
    "          pendown()\n",
    "           \n",
    "          goto(nx*10, ny*10)  # 거북이 다음 위치로 이동\n",
    "\n",
    "          penup()\n",
    "\n",
    "            # 코드를 해석해주세요!! : 갈 수 없는 경우에 초기화 하는 코드!\n",
    "          if solve_maze(nx, ny):\n",
    "              return True\n",
    "# print(solve_maze)\n",
    "          else:\n",
    "            # 다시 이전으로 돌아가기\n",
    "            pendown()\n",
    "            goto(x * 10, y * 10)   # why x,y? why 10,10?\n",
    "            penup()\n",
    "            # 표시된 길 0표시(지우기)\n",
    "            maze[nx][ny] = 0\n",
    "               \n",
    "          # 길을 찾지 못한 경우\n",
    "          # \"길을 찾을 수 없습니다\"를 출력하고\n",
    "          # False를 리턴\n",
    "  print(\"길을 찾을 수 없습니다\")  # Why? 위 else와 들여쓰기 맞출때도 작동은 함, 첫if문에 맞추면 길 못찾 1번\n",
    "  return False\n",
    "# 시작 위치에서 미로 찾기 시작\n",
    "goto(start_x, start_y)\n",
    "solve_maze(start_x, start_y)\n",
    "import pprint\n",
    "pprint.pprint(maze)\n",
    "\n",
    "# 회고록\n",
    "# 들여쓰기 오류가 여러번 있었고 들여쓰기의 중요성을 알게 되었습니다. 아직 완벽하게 이해하진 못했습니다\n",
    "# 이번 퀘스트로는 코드들이 line별로 진행하면서 어떻게 작용하나에 집중 하였습니다.\n",
    "# 다른 그루분들과 의견 공유하면서 하니 새로운 해결방법들을 알게 되어 많이 배웠습니다!!"
   ]
  },
  {
   "cell_type": "code",
   "execution_count": null,
   "metadata": {},
   "outputs": [],
   "source": []
  }
 ],
 "metadata": {
  "colab": {
   "include_colab_link": true,
   "provenance": []
  },
  "kernelspec": {
   "display_name": "Python 3 (ipykernel)",
   "language": "python",
   "name": "python3"
  },
  "language_info": {
   "codemirror_mode": {
    "name": "ipython",
    "version": 3
   },
   "file_extension": ".py",
   "mimetype": "text/x-python",
   "name": "python",
   "nbconvert_exporter": "python",
   "pygments_lexer": "ipython3",
   "version": "3.9.7"
  }
 },
 "nbformat": 4,
 "nbformat_minor": 1
}
