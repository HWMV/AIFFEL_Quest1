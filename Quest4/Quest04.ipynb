{
 "cells": [
  {
   "cell_type": "code",
   "execution_count": 3,
   "id": "864f519e",
   "metadata": {},
   "outputs": [
    {
     "name": "stdout",
     "output_type": "stream",
     "text": [
      "Using Comprehension:\n",
      "['Aiffel는 3 속도로 움직입니다.', 'HW는 5 속도로 움직입니다.']\n",
      "Using Generator:\n",
      "['Aiffel는 3 속도로 움직입니다.', 'HW는 5 속도로 움직입니다.']\n"
     ]
    }
   ],
   "source": [
    "fish_list = [\n",
    " {\"이름\": \"Aiffel\", \"speed\": 3}, \n",
    "{\"이름\": \"HW\", \"speed\": 5},\n",
    "]\n",
    "\n",
    "def fish_compreh(fish_list):\n",
    "    \n",
    "    # 컴프리헨션의 구조 : [fn(x)(함수 적용) for x in range(5) if (조건))]\n",
    "    # 컴프리헨션 왼쪽에 if 쓰기 : [i if i%2==0 else(필수)) 'odd' for i in range(5)]\n",
    "    print([f\"{fish ['이름']}는 {fish ['speed']} 속도로 움직입니다.\" for fish in fish_list])\n",
    "    \n",
    "# fish_compreh(fish_list)\n",
    "\n",
    "# 제너레이터 함수 만들기 : for문과 yield문 사용\n",
    "def fish_generator(fish_list):\n",
    "    \n",
    "    # generator: 여러 개의 데이터를 미리 만들어 놓지 않고 필요할 때마다 즉석해서 하나씩 만들어낼 수 있는 객체\n",
    "    # yield : return 대신 다른 방법으로 반환 해주는 것, return은 1번 반환, yield는 연속 반환\n",
    "    # yield는 제너레이터를 반환, return은 리스트를 반환(지금 코드에서)\n",
    "    \n",
    "    # 의문 > 제너-Yield : 제너레이터 값을 리스트 값으로 출력하려면 반복문을 사용해야 한다?\n",
    "    \n",
    "    yield[f\"{fish ['이름']}는 {fish ['speed']} 속도로 움직입니다.\" for fish in fish_list]\n",
    "    \n",
    "# fish_generator(fish_list) # 제네레이터로 반환 OK!\n",
    "\n",
    "print(\"Using Comprehension:\")\n",
    "fish_compreh(fish_list)\n",
    "\n",
    "print(\"Using Generator:\")\n",
    "a = fish_generator(fish_list)\n",
    "# print(fish_generator.next(a)) # 오류 발생 : attribute 에러 발생!\n",
    "for fish in a:\n",
    "    print(fish) \n",
    "\n",
    "# 제너레이터 함수를 리스트 객체로 반환하려면 for문이 선행되어야 한다?\n"
   ]
  },
  {
   "cell_type": "code",
   "execution_count": null,
   "id": "4c57b4c6",
   "metadata": {},
   "outputs": [],
   "source": [
    "# 회고록\n",
    "# Yield로 제너레이터화 해서 리스트 객체로 반환하는 부분에서 애먹었지만 검색을 통해\n",
    "# 더 깊게 알 수 있어서 좋았습니다\n",
    "# 퀘스트 내용대로 순차적으로 코드를 작성해보면서 점점 빌드 순서를 익히고 있는 것 같아\n",
    "# 재밌습니다!"
   ]
  },
  {
   "cell_type": "code",
   "execution_count": null,
   "id": "d72c86a8",
   "metadata": {},
   "outputs": [],
   "source": []
  }
 ],
 "metadata": {
  "kernelspec": {
   "display_name": "Python 3 (ipykernel)",
   "language": "python",
   "name": "python3"
  },
  "language_info": {
   "codemirror_mode": {
    "name": "ipython",
    "version": 3
   },
   "file_extension": ".py",
   "mimetype": "text/x-python",
   "name": "python",
   "nbconvert_exporter": "python",
   "pygments_lexer": "ipython3",
   "version": "3.9.7"
  }
 },
 "nbformat": 4,
 "nbformat_minor": 5
}
