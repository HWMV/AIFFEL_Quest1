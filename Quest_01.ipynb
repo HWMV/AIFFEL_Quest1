{
  "nbformat": 4,
  "nbformat_minor": 0,
  "metadata": {
    "colab": {
      "provenance": [],
      "authorship_tag": "ABX9TyNaYLqQPQrnd7D1GQOZXTRI",
      "include_colab_link": true
    },
    "kernelspec": {
      "name": "python3",
      "display_name": "Python 3"
    },
    "language_info": {
      "name": "python"
    }
  },
  "cells": [
    {
      "cell_type": "markdown",
      "metadata": {
        "id": "view-in-github",
        "colab_type": "text"
      },
      "source": [
        "<a href=\"https://colab.research.google.com/github/HWMV/AIFFEL_Quest1/blob/master/Quest_01.ipynb\" target=\"_parent\"><img src=\"https://colab.research.google.com/assets/colab-badge.svg\" alt=\"Open In Colab\"/></a>"
      ]
    },
    {
      "cell_type": "code",
      "execution_count": null,
      "metadata": {
        "id": "9VUBpzwhDVo9"
      },
      "outputs": [],
      "source": [
        "#user_input = input(\"세글자를 입력하세요: \")\n",
        "\n",
        "#def palind(input):\n",
        "#  user_input.split()\n",
        "#  if user_input[0] == user_input[-1]:\n",
        "#    print(\"입력한 단어는 회문입니다\")\n",
        "#  else:\n",
        "#    print(\"입력한 단어는 회문이 아닙니다\")\n",
        "\n",
        "#palind(user_input)"
      ]
    },
    {
      "cell_type": "code",
      "source": [
        "u_input = input(\"문장을 입력해주세요: \")\n",
        "\n",
        "result = u_input.replace(\" \", \"\") # input 문장에서 띄어쓰기 제외\n",
        "print(result)\n",
        "print(len(result))\n",
        "\n",
        "n = len(result)\n",
        "t = round(n/2)\n",
        " # n = 23일때  // 5\n",
        " # n/2 = 11.5 = 12가 되서 멈춰야되는것\n",
        " #   = 2.5 = m  > m을 올림 = 멈춰야되는 순서\n",
        "m = 0\n",
        "i = -1\n",
        "\n",
        "while True:   # True니까 무조건 돌리자!\n",
        "# for i in input():\n",
        "  if result[m] == result[i]:\n",
        "    m += 1\n",
        "    i -= 1\n",
        "    print(\"입력된 문장은 회문입니다\")\n",
        "  elif m == t:\n",
        "    break"
      ],
      "metadata": {
        "colab": {
          "base_uri": "https://localhost:8080/",
          "height": 430
        },
        "id": "nn1CkRN0X3UG",
        "outputId": "63642d4e-ad94-4eb8-a934-b16574c19930"
      },
      "execution_count": 2,
      "outputs": [
        {
          "output_type": "stream",
          "name": "stdout",
          "text": [
            "문장을 입력해주세요: 소주 만병만 주소\n",
            "소주만병만주소\n",
            "7\n",
            "입력된 문장은 회문입니다\n",
            "입력된 문장은 회문입니다\n",
            "입력된 문장은 회문입니다\n",
            "입력된 문장은 회문입니다\n",
            "입력된 문장은 회문입니다\n",
            "입력된 문장은 회문입니다\n",
            "입력된 문장은 회문입니다\n"
          ]
        },
        {
          "output_type": "error",
          "ename": "IndexError",
          "evalue": "ignored",
          "traceback": [
            "\u001b[0;31m---------------------------------------------------------------------------\u001b[0m",
            "\u001b[0;31mIndexError\u001b[0m                                Traceback (most recent call last)",
            "\u001b[0;32m<ipython-input-2-a1bd64dc6129>\u001b[0m in \u001b[0;36m<cell line: 15>\u001b[0;34m()\u001b[0m\n\u001b[1;32m     15\u001b[0m \u001b[0;32mwhile\u001b[0m \u001b[0;32mTrue\u001b[0m\u001b[0;34m:\u001b[0m   \u001b[0;31m# True니까 무조건 돌리자!\u001b[0m\u001b[0;34m\u001b[0m\u001b[0;34m\u001b[0m\u001b[0m\n\u001b[1;32m     16\u001b[0m \u001b[0;31m#for i in input():\u001b[0m\u001b[0;34m\u001b[0m\u001b[0;34m\u001b[0m\u001b[0m\n\u001b[0;32m---> 17\u001b[0;31m   \u001b[0;32mif\u001b[0m \u001b[0mresult\u001b[0m\u001b[0;34m[\u001b[0m\u001b[0mm\u001b[0m\u001b[0;34m]\u001b[0m \u001b[0;34m==\u001b[0m \u001b[0mresult\u001b[0m\u001b[0;34m[\u001b[0m\u001b[0mi\u001b[0m\u001b[0;34m]\u001b[0m\u001b[0;34m:\u001b[0m\u001b[0;34m\u001b[0m\u001b[0;34m\u001b[0m\u001b[0m\n\u001b[0m\u001b[1;32m     18\u001b[0m     \u001b[0mm\u001b[0m \u001b[0;34m+=\u001b[0m \u001b[0;36m1\u001b[0m\u001b[0;34m\u001b[0m\u001b[0;34m\u001b[0m\u001b[0m\n\u001b[1;32m     19\u001b[0m     \u001b[0mi\u001b[0m \u001b[0;34m-=\u001b[0m \u001b[0;36m1\u001b[0m\u001b[0;34m\u001b[0m\u001b[0;34m\u001b[0m\u001b[0m\n",
            "\u001b[0;31mIndexError\u001b[0m: string index out of range"
          ]
        }
      ]
    },
    {
      "cell_type": "code",
      "source": [
        "u_input = input(\"문장을 입력해주세요: \")\n",
        "print(\"문장 공백 없애기\")\n",
        "print(\"==================\")\n",
        "\n",
        "word = u_input.replace(\" \", \"\") # input 문장에서 띄어쓰기 제외\n",
        "# print(result)\n",
        "# print(len(result)) 문장 길이 확인\n",
        "\n",
        "def reverse_check(word):\n",
        "  # 단어 뒤집기\n",
        "  local_reverse_word = word[::-1]\n",
        "  # 입력 단어와 뒤집은 단어 비교 후 출력\n",
        "\n",
        "  if local_reverse_word == word:\n",
        "    print(\"답변 : 입력 문장은 회문 입니다.\")\n",
        "  else:\n",
        "    print(\"답변 : 입력 문장은 회문이 아닙니다.\")\n",
        "\n",
        "# main 함수\n",
        "#def main():\n",
        "  # 단어를 입력 받기\n",
        "#  input_word = input(\"입력 문장 :\")\n",
        "\n",
        "#  print(\"==================\")\n",
        "#  print(\"입력값 : \" + input_word)\n",
        "  # 단어를 뒤집는다\n",
        "#  reverse_word = input_word[::-1]\n",
        "\n",
        "#  print(\"답 : \" + reverse_word)\n",
        "  # 회문 판별 함수\n",
        "#  reverse_check(input_word)\n",
        "reverse_check(word)"
      ],
      "metadata": {
        "colab": {
          "base_uri": "https://localhost:8080/"
        },
        "id": "Jd-fYD08dJwh",
        "outputId": "5daa10b0-1c01-4f0d-edaf-9748f3bb47a2"
      },
      "execution_count": 20,
      "outputs": [
        {
          "output_type": "stream",
          "name": "stdout",
          "text": [
            "문장을 입력해주세요: 토마토를\n",
            "문장 공백 없애기\n",
            "==================\n",
            "답변 :입력 문장은 회문이 아닙니다.\n"
          ]
        }
      ]
    }
  ]
}