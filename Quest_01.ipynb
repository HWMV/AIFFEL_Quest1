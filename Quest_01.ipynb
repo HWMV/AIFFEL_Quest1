{
  "nbformat": 4,
  "nbformat_minor": 0,
  "metadata": {
    "colab": {
      "provenance": [],
      "authorship_tag": "ABX9TyOPd50o9SuF/v/ps+nVJxJN",
      "include_colab_link": true
    },
    "kernelspec": {
      "name": "python3",
      "display_name": "Python 3"
    },
    "language_info": {
      "name": "python"
    }
  },
  "cells": [
    {
      "cell_type": "markdown",
      "metadata": {
        "id": "view-in-github",
        "colab_type": "text"
      },
      "source": [
        "<a href=\"https://colab.research.google.com/github/HWMV/AIFFEL_Quest1/blob/master/Quest_01.ipynb\" target=\"_parent\"><img src=\"https://colab.research.google.com/assets/colab-badge.svg\" alt=\"Open In Colab\"/></a>"
      ]
    },
    {
      "cell_type": "code",
      "execution_count": null,
      "metadata": {
        "id": "9VUBpzwhDVo9"
      },
      "outputs": [],
      "source": [
        "#user_input = input(\"세글자를 입력하세요: \")\n",
        "\n",
        "#def palind(input):\n",
        "#  user_input.split()\n",
        "#  if user_input[0] == user_input[-1]:\n",
        "#    print(\"입력한 단어는 회문입니다\")\n",
        "#  else:\n",
        "#    print(\"입력한 단어는 회문이 아닙니다\")\n",
        "\n",
        "#palind(user_input)"
      ]
    },
    {
      "cell_type": "code",
      "source": [
        "u_input = input(\"문장을 입력해주세요: \")\n",
        "\n",
        "result = u_input.replace(\" \", \"\")\n",
        "print(result)\n",
        "print(len(result))\n",
        "\n",
        "n = len(result)\n",
        "t = round(n/2)\n",
        " # n = 23일때  // 5\n",
        " #n/2 = 11.5 = 12가 되서 멈춰야되는것\n",
        " #   = 2.5 = m.  > m을 올림 = 멈춰야되는 순서\n",
        "m = 0\n",
        "i = -1\n",
        "\n",
        "while True:   # True니까 무조건 돌리자!\n",
        "#for i in input():\n",
        "  if result(m) == result(i):\n",
        "    m += 1\n",
        "    i -= 1\n",
        "    print(\"입력된 문장은 회문입니다\")\n",
        "  elif m == t:\n",
        "    break"
      ],
      "metadata": {
        "id": "nn1CkRN0X3UG"
      },
      "execution_count": null,
      "outputs": []
    }
  ]
}