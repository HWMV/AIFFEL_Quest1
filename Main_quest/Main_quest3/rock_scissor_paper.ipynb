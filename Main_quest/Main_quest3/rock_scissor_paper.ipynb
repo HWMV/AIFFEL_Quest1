{
  "nbformat": 4,
  "nbformat_minor": 0,
  "metadata": {
    "colab": {
      "provenance": [],
      "include_colab_link": true
    },
    "kernelspec": {
      "name": "python3",
      "display_name": "Python 3"
    },
    "language_info": {
      "name": "python"
    }
  },
  "cells": [
    {
      "cell_type": "markdown",
      "metadata": {
        "id": "view-in-github",
        "colab_type": "text"
      },
      "source": [
        "<a href=\"https://colab.research.google.com/github/HWMV/AIFFEL_Quest1/blob/master/Main_quest/Main_quest3/rock_scissor_paper.ipynb\" target=\"_parent\"><img src=\"https://colab.research.google.com/assets/colab-badge.svg\" alt=\"Open In Colab\"/></a>"
      ]
    },
    {
      "cell_type": "markdown",
      "source": [
        "# Main_quest3\n",
        "# rock_scissor_paper\n",
        "# 온라인 6기 코어 최현우\n",
        "\n",
        "* **루브릭**\n",
        "1. 이미지 분류기 모델이 성공적으로 만들어졌는가?\t학습과정이 정상적으로 수행되었으며, 학습 결과에 대한 그래프를 시각화(ex. train acc / train loss / val acc / val loss 등) 해 보았음\n",
        "2. 오버피팅을 극복하기 위한 적절한 시도가 있었는가?\t오버피팅 극복을 위하여 데이터셋의 다양성, 정규화 등을 2가지 이상 시도해보았음\n",
        "3. 분류모델의 test accuracy가 기준 이상 높게 나왔는가?\t85% 이상 도달하였음"
      ],
      "metadata": {
        "id": "kOUjIoJbo0on"
      }
    },
    {
      "cell_type": "code",
      "source": [
        "# 라이브러리 호출\n",
        "import tensorflow as tf\n",
        "import numpy as np\n",
        "\n",
        "print(tf.__version__)\n",
        "print(np.__version__)"
      ],
      "metadata": {
        "colab": {
          "base_uri": "https://localhost:8080/"
        },
        "id": "W3cUE8oyrZ1Z",
        "outputId": "dac78d82-4c62-4878-bce5-f6c4b3d83202"
      },
      "execution_count": 1,
      "outputs": [
        {
          "output_type": "stream",
          "name": "stdout",
          "text": [
            "2.14.0\n",
            "1.23.5\n"
          ]
        }
      ]
    },
    {
      "cell_type": "code",
      "source": [
        "# 데이터 불러오기 (로컬, 구글드라이브 마운트)\n",
        "from google.colab import drive\n",
        "drive.mount('/content/drive')"
      ],
      "metadata": {
        "colab": {
          "base_uri": "https://localhost:8080/"
        },
        "id": "P2JDTWxeo08I",
        "outputId": "f30d1e0c-3817-47d4-b09a-d6dae23bbdcb"
      },
      "execution_count": 2,
      "outputs": [
        {
          "output_type": "stream",
          "name": "stdout",
          "text": [
            "Mounted at /content/drive\n"
          ]
        }
      ]
    },
    {
      "cell_type": "code",
      "source": [
        "from PIL import Image\n",
        "import glob\n",
        "import os"
      ],
      "metadata": {
        "id": "XHNfgavkvQbu"
      },
      "execution_count": 3,
      "outputs": []
    },
    {
      "cell_type": "code",
      "source": [
        "# 데이터 불러오기2\n",
        "BASE_PATH = \"/content/drive/MyDrive/Main_quest3/\""
      ],
      "metadata": {
        "id": "jaxZ-vSasq6o"
      },
      "execution_count": 4,
      "outputs": []
    },
    {
      "cell_type": "code",
      "source": [
        "# paper 이미지 resize 하기 (28x28)\n",
        "def resize_images(img_path):\n",
        "    images=glob.glob(img_path + \"/*.jpg\")\n",
        "\n",
        "    print(len(images), \" images to be resized.\")\n",
        "\n",
        "    # 28 x 28 size 로 resize\n",
        "    target_size=(28,28)\n",
        "    for img in images:\n",
        "        old_img=Image.open(img)\n",
        "        new_img=old_img.resize(target_size,Image.ANTIALIAS)\n",
        "        new_img.save(img, \"JPEG\")\n",
        "\n",
        "    print(len(images), \" images resized.\")\n",
        "\n",
        "# 함수 이용해서 가위바위보 이미지 전부 resize\n",
        "resize_images(BASE_PATH + \"rock\")\n",
        "resize_images(BASE_PATH + \"scissor\")\n",
        "resize_images(BASE_PATH + \"paper\")\n",
        "\n",
        "print(\"resize 완료!\")"
      ],
      "metadata": {
        "colab": {
          "base_uri": "https://localhost:8080/"
        },
        "id": "Dgo3Iyq0u3NI",
        "outputId": "6192964b-2da3-4d8d-9a39-fe90ff46875c"
      },
      "execution_count": 5,
      "outputs": [
        {
          "output_type": "stream",
          "name": "stdout",
          "text": [
            "1247  images to be resized.\n"
          ]
        },
        {
          "output_type": "stream",
          "name": "stderr",
          "text": [
            "<ipython-input-5-5a0fe5e6b29e>:11: DeprecationWarning: ANTIALIAS is deprecated and will be removed in Pillow 10 (2023-07-01). Use LANCZOS or Resampling.LANCZOS instead.\n",
            "  new_img=old_img.resize(target_size,Image.ANTIALIAS)\n"
          ]
        },
        {
          "output_type": "stream",
          "name": "stdout",
          "text": [
            "1247  images resized.\n",
            "1320  images to be resized.\n",
            "1320  images resized.\n",
            "1284  images to be resized.\n",
            "1284  images resized.\n",
            "resize 완료!\n"
          ]
        }
      ]
    },
    {
      "cell_type": "code",
      "source": [
        "# load_data 함수 만들기 (노드 참조)\n",
        "\n",
        "def load_data(img_path, number_of_data=3851):\n",
        "    img_size=28\n",
        "    color=3\n",
        "    imgs=np.zeros(number_of_data*img_size*img_size*color,dtype=np.int32).reshape(number_of_data,img_size,img_size,color)\n",
        "    labels=np.zeros(number_of_data,dtype=np.int32)\n",
        "\n",
        "    idx=0\n",
        "    for file in glob.iglob(img_path+'/scissor/*.jpg'):\n",
        "        img = np.array(Image.open(file),dtype=np.int32)\n",
        "        imgs[idx,:,:,:]=img\n",
        "        labels[idx]=0\n",
        "        idx=idx+1\n",
        "\n",
        "    for file in glob.iglob(img_path+'/rock/*.jpg'):\n",
        "        img = np.array(Image.open(file),dtype=np.int32)\n",
        "        imgs[idx,:,:,:]=img\n",
        "        labels[idx]=1\n",
        "        idx=idx+1\n",
        "\n",
        "    for file in glob.iglob(img_path+'/paper/*.jpg'):\n",
        "        img = np.array(Image.open(file),dtype=np.int32)\n",
        "        imgs[idx,:,:,:]=img\n",
        "        labels[idx]=2\n",
        "        idx=idx+1\n",
        "\n",
        "    print(\"Number of images:\", idx)\n",
        "    return imgs, labels"
      ],
      "metadata": {
        "id": "PZ5acpPhwXe9"
      },
      "execution_count": 6,
      "outputs": []
    },
    {
      "cell_type": "code",
      "source": [
        "# test_load_data 함수\n",
        "def test_load_data(img_path, number_of_data=451):\n",
        "    img_size=28\n",
        "    color=3\n",
        "    imgs=np.zeros(number_of_data*img_size*img_size*color,dtype=np.int32).reshape(number_of_data,img_size,img_size,color)\n",
        "    labels=np.zeros(number_of_data,dtype=np.int32)\n",
        "\n",
        "    idx=0\n",
        "    for file in glob.iglob(img_path+'test/scissor/*.jpg'):\n",
        "        img = np.array(Image.open(file),dtype=np.int32)\n",
        "        imgs[idx,:,:,:]=img\n",
        "        labels[idx]=0\n",
        "        idx=idx+1\n",
        "\n",
        "    for file in glob.iglob(img_path+'test/rock/*.jpg'):\n",
        "        img = np.array(Image.open(file),dtype=np.int32)\n",
        "        imgs[idx,:,:,:]=img\n",
        "        labels[idx]=1\n",
        "        idx=idx+1\n",
        "\n",
        "    for file in glob.iglob(img_path+'test/paper/*.jpg'):\n",
        "        img = np.array(Image.open(file),dtype=np.int32)\n",
        "        imgs[idx,:,:,:]=img\n",
        "        labels[idx]=2\n",
        "        idx=idx+1\n",
        "\n",
        "    print(\"Number of images:\", idx)\n",
        "    return imgs, labels"
      ],
      "metadata": {
        "id": "eCN_XcLNoYkZ"
      },
      "execution_count": 16,
      "outputs": []
    },
    {
      "cell_type": "code",
      "source": [
        "# train_test_split 함수 불러오기\n",
        "from sklearn.model_selection import train_test_split\n",
        "\n",
        "# train data 설정\n",
        "(x_data, y_data) = load_data(BASE_PATH)\n",
        "\n",
        "# Train, Validation 데이터 분리\n",
        "x_train, x_val, y_train, y_val = train_test_split(x_data, y_data, test_size=0.2, random_state=2023)\n",
        "\n",
        "# 데이터 정규화\n",
        "x_train_norm = x_train / 255.0\n",
        "x_val_norm = x_val / 255.0\n",
        "\n",
        "print(\"x_train shape: {}\".format(x_train.shape))\n",
        "print(\"y_train shape: {}\".format(y_train.shape))\n",
        "print(\"x_val shape: {}\".format(x_val.shape))\n",
        "print(\"y_val shape: {}\".format(y_val.shape))"
      ],
      "metadata": {
        "id": "ofHhjgF6L1Yl",
        "colab": {
          "base_uri": "https://localhost:8080/"
        },
        "outputId": "8d5e7b9f-e3c2-4637-9a77-2c9ce1e291a5"
      },
      "execution_count": 17,
      "outputs": [
        {
          "output_type": "stream",
          "name": "stdout",
          "text": [
            "Number of images: 3851\n",
            "x_train shape: (3080, 28, 28, 3)\n",
            "y_train shape: (3080,)\n",
            "x_val shape: (771, 28, 28, 3)\n",
            "y_val shape: (771,)\n"
          ]
        }
      ]
    },
    {
      "cell_type": "code",
      "source": [
        "# Load test data\n",
        "# 위 과정 경로만 바꿔서 test data 세팅\n",
        "resize_images(BASE_PATH + \"test/rock\")\n",
        "resize_images(BASE_PATH + \"test/scissor\")\n",
        "resize_images(BASE_PATH + \"test/paper\")\n",
        "(x_test, y_test) = test_load_data(BASE_PATH)\n",
        "x_test_norm = x_test / 255.0\n",
        "\n",
        "print(\"x_test shape: {}\".format(x_test.shape))\n",
        "print(\"y_test shape: {}\".format(y_test.shape))"
      ],
      "metadata": {
        "colab": {
          "base_uri": "https://localhost:8080/"
        },
        "id": "-RfMFl-iT5iI",
        "outputId": "be4e5367-0b42-4514-9172-a927574fc0b9"
      },
      "execution_count": 18,
      "outputs": [
        {
          "output_type": "stream",
          "name": "stdout",
          "text": [
            "156  images to be resized.\n"
          ]
        },
        {
          "output_type": "stream",
          "name": "stderr",
          "text": [
            "<ipython-input-5-5a0fe5e6b29e>:11: DeprecationWarning: ANTIALIAS is deprecated and will be removed in Pillow 10 (2023-07-01). Use LANCZOS or Resampling.LANCZOS instead.\n",
            "  new_img=old_img.resize(target_size,Image.ANTIALIAS)\n"
          ]
        },
        {
          "output_type": "stream",
          "name": "stdout",
          "text": [
            "156  images resized.\n",
            "106  images to be resized.\n",
            "106  images resized.\n",
            "179  images to be resized.\n",
            "179  images resized.\n",
            "Number of images: 441\n",
            "x_test shape: (451, 28, 28, 3)\n",
            "y_test shape: (451,)\n"
          ]
        }
      ]
    },
    {
      "cell_type": "code",
      "source": [
        "# 데이터들 확인\n",
        "import matplotlib.pyplot as plt\n",
        "\n",
        "plt.imshow(x_train[2])\n",
        "print('라벨: ', y_train[2]) # 가위, 실제값 가위"
      ],
      "metadata": {
        "colab": {
          "base_uri": "https://localhost:8080/",
          "height": 448
        },
        "id": "-_wER0Ljd1oH",
        "outputId": "a5784137-0d04-43f4-818d-0faa753337c4"
      },
      "execution_count": 19,
      "outputs": [
        {
          "output_type": "stream",
          "name": "stdout",
          "text": [
            "라벨:  0\n"
          ]
        },
        {
          "output_type": "display_data",
          "data": {
            "text/plain": [
              "<Figure size 640x480 with 1 Axes>"
            ],
            "image/png": "[encoded data removed]"
          },
          "metadata": {}
        }
      ]
    },
    {
      "cell_type": "code",
      "source": [
        "# 모델 구성하기 Sequestial 모델 사용\n",
        "from tensorflow.keras.models import Sequential\n",
        "from tensorflow.keras.callbacks import EarlyStopping\n",
        "from tensorflow.keras.preprocessing.image import ImageDataGenerator\n",
        "\n",
        "# 데이터 증강(ImageDataGenerator() 활용)\n",
        "datagen = ImageDataGenerator(\n",
        "    rotation_range=10, # 이미지를 0~10도 사이로 랜덤하게 회전\n",
        "    zoom_range=0.1, # 0.9~1.1 사이로 랜덤하게 확대/축소\n",
        "    width_shift_range=0.1,  # 10% 범위에서 좌/우 이동\n",
        "    height_shift_range=0.1, # 10% 범위에서 상/하 이동\n",
        "    horizontal_flip=True # 좌우 반전\n",
        ")\n",
        "# train data가 너무 오버피팅(과적합) 되어서 처리 해줌\n",
        "datagen.fit(x_train_norm)\n",
        "\n",
        "# Model(Sequential) 구성 (뉴런 수 조절 : 오버피팅 방지)\n",
        "model = Sequential()\n",
        "# Layer 마다 뉴런 수 감소 : 오버피팅 방지\n",
        "model.add(tf.keras.layers.Conv2D(32, (3,3), activation='relu', input_shape=(28,28,3)))\n",
        "model.add(tf.keras.layers.MaxPooling2D(2,2))\n",
        "model.add(tf.keras.layers.Conv2D(64, (3,3), activation='relu'))\n",
        "model.add(tf.keras.layers.MaxPooling2D((2,2)))\n",
        "model.add(tf.keras.layers.Flatten())\n",
        "model.add(tf.keras.layers.Dense(128, activation='relu'))\n",
        "\n",
        "# 출력층\n",
        "model.add(tf.keras.layers.Dense(3, activation='softmax'))\n",
        "\n",
        "model.summary()"
      ],
      "metadata": {
        "colab": {
          "base_uri": "https://localhost:8080/"
        },
        "id": "iwLU-on2UCyG",
        "outputId": "a063c021-95cf-4673-bfed-1ca353ced4f1"
      },
      "execution_count": 20,
      "outputs": [
        {
          "output_type": "stream",
          "name": "stdout",
          "text": [
            "Model: \"sequential_1\"\n",
            "_________________________________________________________________\n",
            " Layer (type)                Output Shape              Param #   \n",
            "=================================================================\n",
            " conv2d_2 (Conv2D)           (None, 26, 26, 32)        896       \n",
            "                                                                 \n",
            " max_pooling2d_2 (MaxPoolin  (None, 13, 13, 32)        0         \n",
            " g2D)                                                            \n",
            "                                                                 \n",
            " conv2d_3 (Conv2D)           (None, 11, 11, 64)        18496     \n",
            "                                                                 \n",
            " max_pooling2d_3 (MaxPoolin  (None, 5, 5, 64)          0         \n",
            " g2D)                                                            \n",
            "                                                                 \n",
            " flatten_1 (Flatten)         (None, 1600)              0         \n",
            "                                                                 \n",
            " dense_2 (Dense)             (None, 128)               204928    \n",
            "                                                                 \n",
            " dense_3 (Dense)             (None, 3)                 387       \n",
            "                                                                 \n",
            "=================================================================\n",
            "Total params: 224707 (877.76 KB)\n",
            "Trainable params: 224707 (877.76 KB)\n",
            "Non-trainable params: 0 (0.00 Byte)\n",
            "_________________________________________________________________\n"
          ]
        }
      ]
    },
    {
      "cell_type": "code",
      "source": [
        "# 모델 compile 하기\n",
        "model.compile(optimizer='adam',\n",
        "              loss='sparse_categorical_crossentropy',\n",
        "              metrics=['accuracy'])\n",
        "\n",
        "# # Early stopping 추가\n",
        "# early_stopping = EarlyStopping(monitor='val_loss', patience=7)\n",
        "\n",
        "# 학습 및 검증 실행\n",
        "history = model.fit(datagen.flow(x_train_norm, y_train),\n",
        "                    epochs=20,\n",
        "                    validation_data=(x_val_norm, y_val))\n",
        "                    # callbacks=[early_stopping])"
      ],
      "metadata": {
        "colab": {
          "base_uri": "https://localhost:8080/"
        },
        "id": "zU7mBP7Jm8Gu",
        "outputId": "b433a76b-3139-4577-8a0a-da4f6614a23d"
      },
      "execution_count": 21,
      "outputs": [
        {
          "output_type": "stream",
          "name": "stdout",
          "text": [
            "Epoch 1/20\n",
            "97/97 [==============================] - 6s 50ms/step - loss: 1.0744 - accuracy: 0.3873 - val_loss: 0.9990 - val_accuracy: 0.4475\n",
            "Epoch 2/20\n",
            "97/97 [==============================] - 5s 52ms/step - loss: 0.9286 - accuracy: 0.5487 - val_loss: 0.7919 - val_accuracy: 0.6057\n",
            "Epoch 3/20\n",
            "97/97 [==============================] - 4s 40ms/step - loss: 0.8122 - accuracy: 0.6299 - val_loss: 0.6495 - val_accuracy: 0.6991\n",
            "Epoch 4/20\n",
            "97/97 [==============================] - 5s 53ms/step - loss: 0.7041 - accuracy: 0.7000 - val_loss: 0.5042 - val_accuracy: 0.8067\n",
            "Epoch 5/20\n",
            "97/97 [==============================] - 5s 51ms/step - loss: 0.6121 - accuracy: 0.7422 - val_loss: 0.4364 - val_accuracy: 0.8236\n",
            "Epoch 6/20\n",
            "97/97 [==============================] - 4s 39ms/step - loss: 0.5294 - accuracy: 0.7795 - val_loss: 0.4184 - val_accuracy: 0.8431\n",
            "Epoch 7/20\n",
            "97/97 [==============================] - 6s 61ms/step - loss: 0.5118 - accuracy: 0.7922 - val_loss: 0.4054 - val_accuracy: 0.8314\n",
            "Epoch 8/20\n",
            "97/97 [==============================] - 4s 45ms/step - loss: 0.4468 - accuracy: 0.8240 - val_loss: 0.3057 - val_accuracy: 0.8975\n",
            "Epoch 9/20\n",
            "97/97 [==============================] - 8s 79ms/step - loss: 0.4043 - accuracy: 0.8344 - val_loss: 0.2457 - val_accuracy: 0.9027\n",
            "Epoch 10/20\n",
            "97/97 [==============================] - 4s 45ms/step - loss: 0.3558 - accuracy: 0.8588 - val_loss: 0.2407 - val_accuracy: 0.8936\n",
            "Epoch 11/20\n",
            "97/97 [==============================] - 6s 66ms/step - loss: 0.3377 - accuracy: 0.8688 - val_loss: 0.2999 - val_accuracy: 0.8820\n",
            "Epoch 12/20\n",
            "97/97 [==============================] - 5s 48ms/step - loss: 0.3216 - accuracy: 0.8679 - val_loss: 0.2899 - val_accuracy: 0.8962\n",
            "Epoch 13/20\n",
            "97/97 [==============================] - 5s 46ms/step - loss: 0.2890 - accuracy: 0.8867 - val_loss: 0.2804 - val_accuracy: 0.9027\n",
            "Epoch 14/20\n",
            "97/97 [==============================] - 7s 71ms/step - loss: 0.2947 - accuracy: 0.8815 - val_loss: 0.2823 - val_accuracy: 0.8988\n",
            "Epoch 15/20\n",
            "97/97 [==============================] - 4s 41ms/step - loss: 0.2790 - accuracy: 0.8925 - val_loss: 0.1711 - val_accuracy: 0.9274\n",
            "Epoch 16/20\n",
            "97/97 [==============================] - 6s 57ms/step - loss: 0.2392 - accuracy: 0.9065 - val_loss: 0.1740 - val_accuracy: 0.9079\n",
            "Epoch 17/20\n",
            "97/97 [==============================] - 4s 42ms/step - loss: 0.2189 - accuracy: 0.9175 - val_loss: 0.2337 - val_accuracy: 0.9066\n",
            "Epoch 18/20\n",
            "97/97 [==============================] - 6s 66ms/step - loss: 0.2178 - accuracy: 0.9166 - val_loss: 0.1515 - val_accuracy: 0.9572\n",
            "Epoch 19/20\n",
            "97/97 [==============================] - 4s 42ms/step - loss: 0.1869 - accuracy: 0.9256 - val_loss: 0.1497 - val_accuracy: 0.9546\n",
            "Epoch 20/20\n",
            "97/97 [==============================] - 6s 59ms/step - loss: 0.1857 - accuracy: 0.9286 - val_loss: 0.1694 - val_accuracy: 0.9235\n"
          ]
        }
      ]
    },
    {
      "cell_type": "code",
      "source": [
        "# Model evaluation(Train)\n",
        "train_loss, train_accuracy = model.evaluate(x_train_norm, y_train, verbose=2)\n",
        "print(\"train_loss: {} \".format(train_loss))\n",
        "print(\"train_accuracy: {}\".format(train_accuracy))\n",
        "\n",
        "# Model evaluation(Validation)\n",
        "val_loss, val_accuracy = model.evaluate(x_val_norm, y_val, verbose=2)\n",
        "print(\"val_loss: {} \".format(val_loss))\n",
        "print(\"val_accuracy: {}\".format(val_accuracy))\n",
        "\n",
        "# Model evaluation(Test)\n",
        "test_loss, test_accuracy = model.evaluate(x_test_norm, y_test, verbose=2)\n",
        "print(\"test_loss: {} \".format(test_loss))\n",
        "print(\"test_accuracy: {}\".format(test_accuracy))"
      ],
      "metadata": {
        "id": "NFhkk3leUmPo",
        "colab": {
          "base_uri": "https://localhost:8080/"
        },
        "outputId": "bef2a63e-3e7f-48d3-ed8b-2240be2b64a8"
      },
      "execution_count": 22,
      "outputs": [
        {
          "output_type": "stream",
          "name": "stdout",
          "text": [
            "97/97 - 1s - loss: 0.1024 - accuracy: 0.9581 - 745ms/epoch - 8ms/step\n",
            "train_loss: 0.10237674415111542 \n",
            "train_accuracy: 0.958116888999939\n",
            "25/25 - 0s - loss: 0.1694 - accuracy: 0.9235 - 283ms/epoch - 11ms/step\n",
            "val_loss: 0.16938921809196472 \n",
            "val_accuracy: 0.923475980758667\n",
            "15/15 - 0s - loss: 5.0737 - accuracy: 0.4612 - 133ms/epoch - 9ms/step\n",
            "test_loss: 5.073702335357666 \n",
            "test_accuracy: 0.4611973464488983\n"
          ]
        }
      ]
    },
    {
      "cell_type": "code",
      "source": [
        "# 시각화\n",
        "import matplotlib.pyplot as plt\n",
        "\n",
        "# Train and Validation Loss 그래프\n",
        "plt.figure(figsize=(12, 4))\n",
        "plt.subplot(1, 2, 1)\n",
        "plt.plot(history.history['loss'], label='Train Loss')\n",
        "plt.plot(history.history['val_loss'], label='Validation Loss')\n",
        "plt.title('Training and Validation Loss')\n",
        "plt.xlabel('Epochs')\n",
        "plt.ylabel('Loss')\n",
        "plt.legend()\n",
        "\n",
        "# Train and Validation Accuracy 그래프\n",
        "plt.subplot(1, 2, 2)\n",
        "plt.plot(history.history['accuracy'], label='Train Accuracy')\n",
        "plt.plot(history.history['val_accuracy'], label='Validation Accuracy')\n",
        "plt.title('Training and Validation Accuracy')\n",
        "plt.xlabel('Epochs')\n",
        "plt.ylabel('Accuracy')\n",
        "plt.legend()\n",
        "plt.show()"
      ],
      "metadata": {
        "id": "QvjGu01PjTwX",
        "colab": {
          "base_uri": "https://localhost:8080/",
          "height": 410
        },
        "outputId": "b2428321-1db5-48a5-b885-e104f3f91aae"
      },
      "execution_count": 23,
      "outputs": [
        {
          "output_type": "display_data",
          "data": {
            "text/plain": [
              "<Figure size 1200x400 with 2 Axes>"
            ],
            "image/png": "[encoded data removed]"
          },
          "metadata": {}
        }
      ]
    },
    {
      "cell_type": "code",
      "source": [
        "import random\n",
        "\n",
        "# 테스트 데이터에서 무작위로 5개의 인덱스를 선택\n",
        "random_indices = random.sample(range(x_test.shape[0]), 5)\n",
        "\n",
        "# 해당 인덱스의 이미지와 라벨 가져오기\n",
        "random_images = x_test[random_indices]\n",
        "random_labels = y_test[random_indices]\n",
        "\n",
        "# 이미지에 대한 예측값 계산\n",
        "predictions = model.predict(random_images)\n",
        "\n",
        "# 예측값에서 가장 높은 확률을 가진 클래스 선택\n",
        "predicted_labels = np.argmax(predictions, axis=1)\n",
        "\n",
        "# 이미지와 예측값, 실제값 비교하기\n",
        "plt.figure(figsize=(15, 5))\n",
        "for i, index in enumerate(random_indices):\n",
        "    plt.subplot(1, 5, i + 1)\n",
        "    plt.imshow(random_images[i])\n",
        "    plt.title(f\"Predicted: {predicted_labels[i]}, True: {random_labels[i]}\")\n",
        "    plt.axis('off')\n",
        "plt.show()"
      ],
      "metadata": {
        "id": "lRuReA7oi7DB",
        "colab": {
          "base_uri": "https://localhost:8080/",
          "height": 277
        },
        "outputId": "c0ec22d7-fa89-4290-d7cb-05a8669bacf6"
      },
      "execution_count": 24,
      "outputs": [
        {
          "output_type": "stream",
          "name": "stdout",
          "text": [
            "1/1 [==============================] - 0s 68ms/step\n"
          ]
        },
        {
          "output_type": "display_data",
          "data": {
            "text/plain": [
              "<Figure size 1500x500 with 5 Axes>"
            ],
            "image/png": "[encoded data removed]"
          },
          "metadata": {}
        }
      ]
    },
    {
      "cell_type": "markdown",
      "source": [
        "# **회 고 록**\n",
        "* ## train data의 오버피팅(과적합) 방지를 위한 방법\n",
        "1. 데이터 shuffle 사용해보자 : 데이터 확장, 오버피팅 방지\n",
        "shuffle_data = np.arange(x_train.shape[0])\n",
        "np.random.shuffle(shuffle_data)\n",
        "\n",
        "2. 데이터 증강(ImageDataGenerator(), fit에서 datagen.flow 활용)\n",
        "했었으나 데이터 수를 늘리고 증강을 빼고 성능이 좋아서 삭제 했습니다 (충분히 train data로 학습)\n",
        "데이터 수 회전,확대/축소 등으로 데이터 증강\n",
        "(train data : 300장 > 1200장 > 3851장)\n",
        "(validation data : train data 20%)\n",
        "(test data : 639장)\n",
        "\n",
        "3. 픽셀 정규화\n",
        "x_data_norm = x_data / 255.0\n",
        "x_train_norm = x_train / 255.0\n",
        "x_val_norm = x_val / 255.0\n",
        "x_test_norm = x_test / 255.0\n",
        "\n",
        "4. dropout, BatchNormalization\n",
        "각 layer 사이에 dropout(50%), BatchNormalization 적용\n",
        "(train data가 너무 오버피팅 되서 조절)\n",
        "\n",
        "---\n",
        "* ## test data의 성능 향상을 위한 방법\n",
        "1. epoch 수 증가 (10 > 30)\n",
        "2. 데이터 셔플 제외 라벨 데이트까지 섞여서 확인 시 클래스가 섞여 나오는 것 확인\n",
        "3. 쓸데없이 오버피팅 방지한 것들 제거 중 (dropout, batch normalization 등)\n",
        "4. test data 비율 10~20% 정도로 줄여서 test\n",
        "\n",
        "\n",
        "---\n",
        "\n",
        "## **배우고 느낀 점**\n",
        "\n",
        "test data를 더 늘리고, train data도 더 늘려서 작업해보고 싶지만 업로드와 epoch의 시간소요에 여기까지만 조절 했습니다\n",
        "\n",
        "fit 학습을 여러번 반복하면 기존 학습에 이어서 학습을 해서 제대로 학습이 안되는 부분도 배웠습니다. 코드를 중복되지 않게 구현 하는 연습도 해봐야 할 것 같다고 생각 했습니다.\n",
        "\n",
        "여러가지로 오버피팅 방지가 어렵고 관건이라고 배웠습니다. 그래도 실험해보면서 바뀌는 모습을 보면서 재밌게 작업했습니다. 여러 시도를 해보기 위해 컴퓨터 사양을 늘려야 효율적일 것 같다고 느꼈습니다.\n",
        "\n",
        "오버피팅의 어려움을 체감하고 오버피팅(과적합) 방지에 여러 방법이 있고, 왜 사용하는지를 정확하게 이해하고 사용해야 된다는 것을 배웠습니다. 시각화의 중요성도 많이 배웠습니다.\n",
        "더욱 정진 하겠습니다.\n",
        "\n",
        "---\n",
        "\n",
        "## **해결 못한 점**\n",
        "1. pred값과 실제값 비교에서 흑백 사진의 정체\n",
        "(해결 : train, test 데이터 load 하는 함수 따로 생성하고 데이터 수를 맞춰 줬습니다)\n",
        "2. test 성능 향상을 마저 못했습니다\n",
        "(가위 클래스 0은 잘 분석하나, 정면 바위 사진을 2(보)로 예측하는 경우가 많았습니다)\n",
        "(학습 데이터에서 바위와 보 데이터를 더 확보해야 될 걳 같다고 분석했습니다)"
      ],
      "metadata": {
        "id": "mqS9L92vePQ1"
      }
    }
  ]
}