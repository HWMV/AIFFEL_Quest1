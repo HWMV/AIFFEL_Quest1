{
  "nbformat": 4,
  "nbformat_minor": 0,
  "metadata": {
    "colab": {
      "provenance": [],
      "authorship_tag": "ABX9TyP2rSqS1RaNXwoJL/z08Iix",
      "include_colab_link": true
    },
    "kernelspec": {
      "name": "python3",
      "display_name": "Python 3"
    },
    "language_info": {
      "name": "python"
    }
  },
  "cells": [
    {
      "cell_type": "markdown",
      "metadata": {
        "id": "view-in-github",
        "colab_type": "text"
      },
      "source": [
        "<a href=\"https://colab.research.google.com/github/HWMV/AIFFEL_Quest1/blob/master/Main_quest/Main_quest3/rock_scissor_paper.ipynb\" target=\"_parent\"><img src=\"https://colab.research.google.com/assets/colab-badge.svg\" alt=\"Open In Colab\"/></a>"
      ]
    },
    {
      "cell_type": "markdown",
      "source": [
        "# Main_quest3\n",
        "# rock_scissor_paper\n",
        "# 온라인 6기 코어 최현우\n",
        "\n",
        "* **루브릭**\n",
        "1. 이미지 분류기 모델이 성공적으로 만들어졌는가?\t학습과정이 정상적으로 수행되었으며, 학습 결과에 대한 그래프를 시각화(ex. train acc / train loss / val acc / val loss 등) 해 보았음\n",
        "2. 오버피팅을 극복하기 위한 적절한 시도가 있었는가?\t오버피팅 극복을 위하여 데이터셋의 다양성, 정규화 등을 2가지 이상 시도해보았음\n",
        "3. 분류모델의 test accuracy가 기준 이상 높게 나왔는가?\t85% 이상 도달하였음"
      ],
      "metadata": {
        "id": "kOUjIoJbo0on"
      }
    },
    {
      "cell_type": "code",
      "source": [
        "# 라이브러리 호출\n",
        "import tensorflow as tf\n",
        "import numpy as np\n",
        "\n",
        "print(tf.__version__)\n",
        "print(np.__version__)"
      ],
      "metadata": {
        "colab": {
          "base_uri": "https://localhost:8080/"
        },
        "id": "W3cUE8oyrZ1Z",
        "outputId": "6d7ff9c8-5174-40c8-c2f4-22fd521889ed"
      },
      "execution_count": 16,
      "outputs": [
        {
          "output_type": "stream",
          "name": "stdout",
          "text": [
            "2.14.0\n",
            "1.23.5\n"
          ]
        }
      ]
    },
    {
      "cell_type": "code",
      "source": [
        "# 데이터 불러오기 (로컬, 구글드라이브 마운트)\n",
        "from google.colab import drive\n",
        "drive.mount('/content/drive')"
      ],
      "metadata": {
        "colab": {
          "base_uri": "https://localhost:8080/"
        },
        "id": "P2JDTWxeo08I",
        "outputId": "60099705-4308-4780-bc1a-f89c00c672b7"
      },
      "execution_count": 17,
      "outputs": [
        {
          "output_type": "stream",
          "name": "stdout",
          "text": [
            "Drive already mounted at /content/drive; to attempt to forcibly remount, call drive.mount(\"/content/drive\", force_remount=True).\n"
          ]
        }
      ]
    },
    {
      "cell_type": "code",
      "source": [
        "from PIL import Image\n",
        "import glob\n",
        "import os"
      ],
      "metadata": {
        "id": "XHNfgavkvQbu"
      },
      "execution_count": 18,
      "outputs": []
    },
    {
      "cell_type": "code",
      "source": [
        "# 데이터 불러오기2\n",
        "BASE_PATH = \"/content/drive/MyDrive/Main_quest3/\""
      ],
      "metadata": {
        "id": "jaxZ-vSasq6o"
      },
      "execution_count": 19,
      "outputs": []
    },
    {
      "cell_type": "code",
      "source": [
        "# paper 이미지 resize 하기 (28x28)\n",
        "def resize_images(img_path):\n",
        "    images=glob.glob(img_path + \"/*.jpg\")\n",
        "\n",
        "    print(len(images), \" images to be resized.\")\n",
        "\n",
        "    # 28 x 28 size 로 resize\n",
        "    target_size=(28,28)\n",
        "    for img in images:\n",
        "        old_img=Image.open(img)\n",
        "        new_img=old_img.resize(target_size,Image.ANTIALIAS)\n",
        "        new_img.save(img, \"JPEG\")\n",
        "\n",
        "    print(len(images), \" images resized.\")\n",
        "\n",
        "# 함수 이용해서 가위바위보 이미지 전부 resize\n",
        "resize_images(BASE_PATH + \"rock\")\n",
        "resize_images(BASE_PATH + \"scissor\")\n",
        "resize_images(BASE_PATH + \"paper\")\n",
        "\n",
        "print(\"resize 완료!\")\n"
      ],
      "metadata": {
        "colab": {
          "base_uri": "https://localhost:8080/"
        },
        "id": "Dgo3Iyq0u3NI",
        "outputId": "455621c4-281d-4037-b827-e1678c18312b"
      },
      "execution_count": 20,
      "outputs": [
        {
          "output_type": "stream",
          "name": "stdout",
          "text": [
            "500  images to be resized.\n"
          ]
        },
        {
          "output_type": "stream",
          "name": "stderr",
          "text": [
            "<ipython-input-20-4fae2dba621a>:11: DeprecationWarning: ANTIALIAS is deprecated and will be removed in Pillow 10 (2023-07-01). Use LANCZOS or Resampling.LANCZOS instead.\n",
            "  new_img=old_img.resize(target_size,Image.ANTIALIAS)\n"
          ]
        },
        {
          "output_type": "stream",
          "name": "stdout",
          "text": [
            "500  images resized.\n",
            "500  images to be resized.\n",
            "500  images resized.\n",
            "500  images to be resized.\n",
            "500  images resized.\n",
            "resize 완료!\n"
          ]
        }
      ]
    },
    {
      "cell_type": "code",
      "source": [
        "# load_data 함수 만들기 (노드 참조)\n",
        "\n",
        "def load_data(img_path, number_of_data=2000):\n",
        "    img_size=28\n",
        "    color=3\n",
        "    imgs=np.zeros(number_of_data*img_size*img_size*color,dtype=np.int32).reshape(number_of_data,img_size,img_size,color)\n",
        "    labels=np.zeros(number_of_data,dtype=np.int32)\n",
        "\n",
        "    idx=0\n",
        "    for file in glob.iglob(img_path+'/scissor/*.jpg'):\n",
        "        img = np.array(Image.open(file),dtype=np.int32)\n",
        "        imgs[idx,:,:,:]=img\n",
        "        labels[idx]=0\n",
        "        idx=idx+1\n",
        "\n",
        "    for file in glob.iglob(img_path+'/rock/*.jpg'):\n",
        "        img = np.array(Image.open(file),dtype=np.int32)\n",
        "        imgs[idx,:,:,:]=img\n",
        "        labels[idx]=1\n",
        "        idx=idx+1\n",
        "\n",
        "    for file in glob.iglob(img_path+'/paper/*.jpg'):\n",
        "        img = np.array(Image.open(file),dtype=np.int32)\n",
        "        imgs[idx,:,:,:]=img\n",
        "        labels[idx]=2\n",
        "        idx=idx+1\n",
        "\n",
        "    print(\"Number of images:\", idx)\n",
        "    return imgs, labels\n",
        "\n",
        "# train data 설정\n",
        "(x_train, y_train) = load_data(BASE_PATH)\n",
        "# 데이터 정규화\n",
        "x_train_norm = x_train / 255.0\n"
      ],
      "metadata": {
        "colab": {
          "base_uri": "https://localhost:8080/"
        },
        "id": "PZ5acpPhwXe9",
        "outputId": "e0168fe8-9f25-49a2-819b-753482f36d60"
      },
      "execution_count": 25,
      "outputs": [
        {
          "output_type": "stream",
          "name": "stdout",
          "text": [
            "Number of images: 1500\n"
          ]
        }
      ]
    },
    {
      "cell_type": "code",
      "source": [
        "# 모델 구성하기 Sequestial 모델 사용 (뉴런 수 증감)\n",
        "from tensorflow.keras.models import Sequential\n",
        "model = Sequential()\n",
        "\n",
        "model.add(tf.keras.layers.Conv2D(128, (3,3), activation='relu', input_shape=(28,28,3)))\n",
        "model.add(tf.keras.layers.MaxPooling2D(2,2))\n",
        "model.add(tf.keras.layers.Conv2D(64, (3,3), activation='relu'))\n",
        "model.add(tf.keras.layers.MaxPooling2D((2,2)))\n",
        "model.add(tf.keras.layers.Flatten())\n",
        "model.add(tf.keras.layers.Dense(64, activation='relu'))\n",
        "model.add(tf.keras.layers.Dense(3, activation='softmax'))\n",
        "\n",
        "# 모델 compile 하기\n",
        "model.compile(optimizer='adam',\n",
        "              loss='sparse_categorical_crossentropy',\n",
        "              metrics=['accuracy'])\n",
        "\n",
        "model.fit(x_train_norm, y_train, epochs=10)\n",
        "\n",
        "train_loss, train_accuracy = model.evaluate(x_train_norm, y_train, verbose=2)\n",
        "print(\"train_loss: {} \".format(train_loss))\n",
        "print(\"train_accuracy: {}\".format(train_accuracy))"
      ],
      "metadata": {
        "colab": {
          "base_uri": "https://localhost:8080/"
        },
        "id": "iwLU-on2UCyG",
        "outputId": "e993e85d-3be1-46da-a3ad-58d4258d44b6"
      },
      "execution_count": 34,
      "outputs": [
        {
          "output_type": "stream",
          "name": "stdout",
          "text": [
            "Epoch 1/10\n",
            "63/63 [==============================] - 6s 83ms/step - loss: 0.8780 - accuracy: 0.5550\n",
            "Epoch 2/10\n",
            "63/63 [==============================] - 9s 138ms/step - loss: 0.5900 - accuracy: 0.7265\n",
            "Epoch 3/10\n",
            "63/63 [==============================] - 5s 77ms/step - loss: 0.4304 - accuracy: 0.8140\n",
            "Epoch 4/10\n",
            "63/63 [==============================] - 6s 89ms/step - loss: 0.3029 - accuracy: 0.8820\n",
            "Epoch 5/10\n",
            "63/63 [==============================] - 6s 97ms/step - loss: 0.2072 - accuracy: 0.9220\n",
            "Epoch 6/10\n",
            "63/63 [==============================] - 5s 77ms/step - loss: 0.1449 - accuracy: 0.9580\n",
            "Epoch 7/10\n",
            "63/63 [==============================] - 8s 128ms/step - loss: 0.0875 - accuracy: 0.9775\n",
            "Epoch 8/10\n",
            "63/63 [==============================] - 5s 77ms/step - loss: 0.0730 - accuracy: 0.9815\n",
            "Epoch 9/10\n",
            "63/63 [==============================] - 5s 82ms/step - loss: 0.0490 - accuracy: 0.9880\n",
            "Epoch 10/10\n",
            "63/63 [==============================] - 7s 106ms/step - loss: 0.0323 - accuracy: 0.9935\n",
            "63/63 - 1s - loss: 0.0201 - accuracy: 0.9990 - 1s/epoch - 21ms/step\n",
            "train_loss: 0.02005573734641075 \n",
            "train_accuracy: 0.9990000128746033\n"
          ]
        }
      ]
    },
    {
      "cell_type": "code",
      "source": [
        "# Load test data\n",
        "# 위 과정 경로만 바꿔서 test data 세팅 (연님 사진)\n",
        "resize_images(BASE_PATH + \"test/rock\")\n",
        "resize_images(BASE_PATH + \"test/scissor\")\n",
        "resize_images(BASE_PATH + \"test/paper\")\n",
        "(x_test, y_test) = load_data(BASE_PATH + \"test\")\n",
        "x_test_norm = x_test / 255.0"
      ],
      "metadata": {
        "colab": {
          "base_uri": "https://localhost:8080/"
        },
        "id": "-RfMFl-iT5iI",
        "outputId": "55439c46-97fa-4006-bfa6-34a4bfb50b6d"
      },
      "execution_count": 27,
      "outputs": [
        {
          "output_type": "stream",
          "name": "stdout",
          "text": [
            "100  images to be resized.\n"
          ]
        },
        {
          "output_type": "stream",
          "name": "stderr",
          "text": [
            "<ipython-input-20-4fae2dba621a>:11: DeprecationWarning: ANTIALIAS is deprecated and will be removed in Pillow 10 (2023-07-01). Use LANCZOS or Resampling.LANCZOS instead.\n",
            "  new_img=old_img.resize(target_size,Image.ANTIALIAS)\n"
          ]
        },
        {
          "output_type": "stream",
          "name": "stdout",
          "text": [
            "100  images resized.\n",
            "100  images to be resized.\n",
            "100  images resized.\n",
            "100  images to be resized.\n",
            "100  images resized.\n",
            "Number of images: 300\n"
          ]
        }
      ]
    },
    {
      "cell_type": "code",
      "source": [
        "# Model evaluation\n",
        "test_loss, test_accuracy = model.evaluate(x_test_norm, y_test, verbose=2)\n",
        "print(\"test_loss: {} \".format(test_loss))\n",
        "print(\"test_accuracy: {}\".format(test_accuracy))"
      ],
      "metadata": {
        "colab": {
          "base_uri": "https://localhost:8080/"
        },
        "id": "NFhkk3leUmPo",
        "outputId": "5a6322fc-7b5f-4cd5-c1ff-4a5db71cfbd3"
      },
      "execution_count": 28,
      "outputs": [
        {
          "output_type": "stream",
          "name": "stdout",
          "text": [
            "63/63 - 1s - loss: 0.6062 - accuracy: 0.9465 - 1s/epoch - 23ms/step\n",
            "test_loss: 0.6061707735061646 \n",
            "test_accuracy: 0.9465000033378601\n"
          ]
        }
      ]
    },
    {
      "cell_type": "code",
      "source": [
        "# 시각화 해봅자\n",
        "import matplotlib.pyplot as plt\n",
        "\n",
        "history = model.fit(x_train_norm, y_train,\n",
        "                    epochs=10,\n",
        "                    validation_data=(x_test_norm, y_test))"
      ],
      "metadata": {
        "colab": {
          "base_uri": "https://localhost:8080/"
        },
        "id": "wGntv_KtYjGW",
        "outputId": "6136965b-2e5a-468b-83e9-381dd6797558"
      },
      "execution_count": 29,
      "outputs": [
        {
          "output_type": "stream",
          "name": "stdout",
          "text": [
            "Epoch 1/10\n",
            "63/63 [==============================] - 12s 187ms/step - loss: 0.0815 - accuracy: 0.9785 - val_loss: 0.5756 - val_accuracy: 0.9460\n",
            "Epoch 2/10\n",
            "63/63 [==============================] - 7s 111ms/step - loss: 0.0461 - accuracy: 0.9925 - val_loss: 0.6383 - val_accuracy: 0.9480\n",
            "Epoch 3/10\n",
            "63/63 [==============================] - 10s 161ms/step - loss: 0.0401 - accuracy: 0.9930 - val_loss: 0.6252 - val_accuracy: 0.9475\n",
            "Epoch 4/10\n",
            "63/63 [==============================] - 6s 97ms/step - loss: 0.0290 - accuracy: 0.9955 - val_loss: 0.7637 - val_accuracy: 0.9480\n",
            "Epoch 5/10\n",
            "63/63 [==============================] - 8s 130ms/step - loss: 0.0306 - accuracy: 0.9920 - val_loss: 0.7113 - val_accuracy: 0.9465\n",
            "Epoch 6/10\n",
            "63/63 [==============================] - 6s 96ms/step - loss: 0.0174 - accuracy: 0.9975 - val_loss: 0.7761 - val_accuracy: 0.9480\n",
            "Epoch 7/10\n",
            "63/63 [==============================] - 8s 122ms/step - loss: 0.0171 - accuracy: 0.9975 - val_loss: 0.8045 - val_accuracy: 0.9475\n",
            "Epoch 8/10\n",
            "63/63 [==============================] - 7s 105ms/step - loss: 0.0090 - accuracy: 1.0000 - val_loss: 0.9361 - val_accuracy: 0.9485\n",
            "Epoch 9/10\n",
            "63/63 [==============================] - 8s 120ms/step - loss: 0.0067 - accuracy: 1.0000 - val_loss: 0.9643 - val_accuracy: 0.9480\n",
            "Epoch 10/10\n",
            "63/63 [==============================] - 7s 108ms/step - loss: 0.0060 - accuracy: 1.0000 - val_loss: 0.8947 - val_accuracy: 0.9480\n"
          ]
        }
      ]
    },
    {
      "cell_type": "code",
      "source": [
        "# Plotting train and test accuracy\n",
        "plt.figure(figsize=(12, 4))\n",
        "plt.subplot(1, 2, 1)\n",
        "plt.plot(history.history['accuracy'], '-o')\n",
        "plt.plot(history.history['val_accuracy'], '-o')\n",
        "plt.legend(['Train', 'Test'], loc='upper left')\n",
        "plt.xlabel('epoch')\n",
        "plt.ylabel('accuracy')\n",
        "plt.title('Train & Test Accuracy')"
      ],
      "metadata": {
        "colab": {
          "base_uri": "https://localhost:8080/",
          "height": 428
        },
        "id": "3p-Y1MSrYnr0",
        "outputId": "17e72527-d226-4606-8660-25d81a09275d"
      },
      "execution_count": 30,
      "outputs": [
        {
          "output_type": "execute_result",
          "data": {
            "text/plain": [
              "Text(0.5, 1.0, 'Train and Test Accuracy')"
            ]
          },
          "metadata": {},
          "execution_count": 30
        },
        {
          "output_type": "display_data",
          "data": {
            "text/plain": [
              "<Figure size 1200x400 with 1 Axes>"
            ],
            "image/png": "[encoded data removed]"
          },
          "metadata": {}
        }
      ]
    },
    {
      "cell_type": "code",
      "source": [
        "# Plotting train and test loss\n",
        "plt.subplot(1, 2, 2)\n",
        "plt.plot(history.history['loss'], '-o')\n",
        "plt.plot(history.history['val_loss'], '-o')\n",
        "plt.legend(['Train', 'Test'], loc='upper left')\n",
        "plt.xlabel('epoch')\n",
        "plt.ylabel('loss')\n",
        "plt.title('Train and Test Loss')"
      ],
      "metadata": {
        "colab": {
          "base_uri": "https://localhost:8080/",
          "height": 490
        },
        "id": "G5_Yztu9YpsS",
        "outputId": "78721821-ceb0-4919-9a6c-a9bf40283bde"
      },
      "execution_count": 31,
      "outputs": [
        {
          "output_type": "execute_result",
          "data": {
            "text/plain": [
              "Text(0.5, 1.0, 'Train and Test Loss')"
            ]
          },
          "metadata": {},
          "execution_count": 31
        },
        {
          "output_type": "display_data",
          "data": {
            "text/plain": [
              "<Figure size 640x480 with 1 Axes>"
            ],
            "image/png": "[encoded data removed]"
          },
          "metadata": {}
        }
      ]
    }
  ]
}