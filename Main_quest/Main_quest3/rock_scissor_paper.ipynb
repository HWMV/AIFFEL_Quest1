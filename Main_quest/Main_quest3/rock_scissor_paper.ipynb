{
  "nbformat": 4,
  "nbformat_minor": 0,
  "metadata": {
    "colab": {
      "provenance": [],
      "include_colab_link": true
    },
    "kernelspec": {
      "name": "python3",
      "display_name": "Python 3"
    },
    "language_info": {
      "name": "python"
    }
  },
  "cells": [
    {
      "cell_type": "markdown",
      "metadata": {
        "id": "view-in-github",
        "colab_type": "text"
      },
      "source": [
        "<a href=\"https://colab.research.google.com/github/HWMV/AIFFEL_Quest1/blob/master/Main_quest/Main_quest3/rock_scissor_paper.ipynb\" target=\"_parent\"><img src=\"https://colab.research.google.com/assets/colab-badge.svg\" alt=\"Open In Colab\"/></a>"
      ]
    },
    {
      "cell_type": "markdown",
      "source": [
        "# Main_quest3\n",
        "# rock_scissor_paper\n",
        "# 온라인 6기 코어 최현우\n",
        "\n",
        "* **루브릭**\n",
        "1. 이미지 분류기 모델이 성공적으로 만들어졌는가?\t학습과정이 정상적으로 수행되었으며, 학습 결과에 대한 그래프를 시각화(ex. train acc / train loss / val acc / val loss 등) 해 보았음\n",
        "2. 오버피팅을 극복하기 위한 적절한 시도가 있었는가?\t오버피팅 극복을 위하여 데이터셋의 다양성, 정규화 등을 2가지 이상 시도해보았음\n",
        "3. 분류모델의 test accuracy가 기준 이상 높게 나왔는가?\t85% 이상 도달하였음"
      ],
      "metadata": {
        "id": "kOUjIoJbo0on"
      }
    },
    {
      "cell_type": "code",
      "source": [
        "# 라이브러리 호출\n",
        "import tensorflow as tf\n",
        "import numpy as np\n",
        "\n",
        "print(tf.__version__)\n",
        "print(np.__version__)"
      ],
      "metadata": {
        "colab": {
          "base_uri": "https://localhost:8080/"
        },
        "id": "W3cUE8oyrZ1Z",
        "outputId": "e9fee02a-19ac-4c0a-9311-cf846b5d70e3"
      },
      "execution_count": 57,
      "outputs": [
        {
          "output_type": "stream",
          "name": "stdout",
          "text": [
            "2.14.0\n",
            "1.23.5\n"
          ]
        }
      ]
    },
    {
      "cell_type": "code",
      "source": [
        "# 데이터 불러오기 (로컬, 구글드라이브 마운트)\n",
        "from google.colab import drive\n",
        "drive.mount('/content/drive')"
      ],
      "metadata": {
        "colab": {
          "base_uri": "https://localhost:8080/"
        },
        "id": "P2JDTWxeo08I",
        "outputId": "7849f5b3-c123-4e40-9677-3013b68b0563"
      },
      "execution_count": 58,
      "outputs": [
        {
          "output_type": "stream",
          "name": "stdout",
          "text": [
            "Drive already mounted at /content/drive; to attempt to forcibly remount, call drive.mount(\"/content/drive\", force_remount=True).\n"
          ]
        }
      ]
    },
    {
      "cell_type": "code",
      "source": [
        "from PIL import Image\n",
        "import glob\n",
        "import os"
      ],
      "metadata": {
        "id": "XHNfgavkvQbu"
      },
      "execution_count": 59,
      "outputs": []
    },
    {
      "cell_type": "code",
      "source": [
        "# 데이터 불러오기2\n",
        "BASE_PATH = \"/content/drive/MyDrive/Main_quest3/\""
      ],
      "metadata": {
        "id": "jaxZ-vSasq6o"
      },
      "execution_count": 60,
      "outputs": []
    },
    {
      "cell_type": "code",
      "source": [
        "# paper 이미지 resize 하기 (28x28)\n",
        "def resize_images(img_path):\n",
        "    images=glob.glob(img_path + \"/*.jpg\")\n",
        "\n",
        "    print(len(images), \" images to be resized.\")\n",
        "\n",
        "    # 28 x 28 size 로 resize\n",
        "    target_size=(28,28)\n",
        "    for img in images:\n",
        "        old_img=Image.open(img)\n",
        "        new_img=old_img.resize(target_size,Image.ANTIALIAS)\n",
        "        new_img.save(img, \"JPEG\")\n",
        "\n",
        "    print(len(images), \" images resized.\")\n",
        "\n",
        "# 함수 이용해서 가위바위보 이미지 전부 resize\n",
        "resize_images(BASE_PATH + \"rock\")\n",
        "resize_images(BASE_PATH + \"scissor\")\n",
        "resize_images(BASE_PATH + \"paper\")\n",
        "\n",
        "print(\"resize 완료!\")"
      ],
      "metadata": {
        "colab": {
          "base_uri": "https://localhost:8080/"
        },
        "id": "Dgo3Iyq0u3NI",
        "outputId": "36ffdfc1-5017-49b2-b248-346183c71df3"
      },
      "execution_count": 61,
      "outputs": [
        {
          "output_type": "stream",
          "name": "stdout",
          "text": [
            "1247  images to be resized.\n"
          ]
        },
        {
          "output_type": "stream",
          "name": "stderr",
          "text": [
            "<ipython-input-61-5a0fe5e6b29e>:11: DeprecationWarning: ANTIALIAS is deprecated and will be removed in Pillow 10 (2023-07-01). Use LANCZOS or Resampling.LANCZOS instead.\n",
            "  new_img=old_img.resize(target_size,Image.ANTIALIAS)\n"
          ]
        },
        {
          "output_type": "stream",
          "name": "stdout",
          "text": [
            "1247  images resized.\n",
            "1320  images to be resized.\n",
            "1320  images resized.\n",
            "1284  images to be resized.\n",
            "1284  images resized.\n",
            "resize 완료!\n"
          ]
        }
      ]
    },
    {
      "cell_type": "code",
      "source": [
        "# load_data 함수 만들기 (노드 참조)\n",
        "\n",
        "def load_data(img_path, number_of_data=6000):\n",
        "    img_size=28\n",
        "    color=3\n",
        "    imgs=np.zeros(number_of_data*img_size*img_size*color,dtype=np.int32).reshape(number_of_data,img_size,img_size,color)\n",
        "    labels=np.zeros(number_of_data,dtype=np.int32)\n",
        "\n",
        "    idx=0\n",
        "    for file in glob.iglob(img_path+'/scissor/*.jpg'):\n",
        "        img = np.array(Image.open(file),dtype=np.int32)\n",
        "        imgs[idx,:,:,:]=img\n",
        "        labels[idx]=0\n",
        "        idx=idx+1\n",
        "\n",
        "    for file in glob.iglob(img_path+'/rock/*.jpg'):\n",
        "        img = np.array(Image.open(file),dtype=np.int32)\n",
        "        imgs[idx,:,:,:]=img\n",
        "        labels[idx]=1\n",
        "        idx=idx+1\n",
        "\n",
        "    for file in glob.iglob(img_path+'/paper/*.jpg'):\n",
        "        img = np.array(Image.open(file),dtype=np.int32)\n",
        "        imgs[idx,:,:,:]=img\n",
        "        labels[idx]=2\n",
        "        idx=idx+1\n",
        "\n",
        "    print(\"Number of images:\", idx)\n",
        "    return imgs, labels\n",
        "\n",
        "# train data 설정\n",
        "(x_data, y_data) = load_data(BASE_PATH)\n",
        "\n",
        "# 데이터 shuffle 사용해보자 : 데이터 확장, 오버피팅 방지\n",
        "shuffle_data = np.arange(x_data.shape[0])\n",
        "np.random.shuffle(shuffle_data)\n",
        "\n",
        "x_data = x_data[shuffle_data]\n",
        "y_data = y_data[shuffle_data]\n",
        "\n",
        "# 데이터 정규화\n",
        "x_data_norm = x_data / 255.0\n"
      ],
      "metadata": {
        "colab": {
          "base_uri": "https://localhost:8080/"
        },
        "id": "PZ5acpPhwXe9",
        "outputId": "c729d1f9-2e33-472f-c441-1f60b31e2c19"
      },
      "execution_count": 62,
      "outputs": [
        {
          "output_type": "stream",
          "name": "stdout",
          "text": [
            "Number of images: 3851\n"
          ]
        }
      ]
    },
    {
      "cell_type": "code",
      "source": [
        "# train_test_split 함수 불러오기\n",
        "from sklearn.model_selection import train_test_split\n",
        "\n",
        "\n",
        "# Train, Validation 데이터 분리\n",
        "x_train, x_val, y_train, y_val = train_test_split(x_data, y_data, test_size=0.2, random_state=42)\n",
        "\n",
        "# 데이터 정규화\n",
        "x_train_norm = x_train / 255.0\n",
        "x_val_norm = x_val / 255.0"
      ],
      "metadata": {
        "id": "ofHhjgF6L1Yl"
      },
      "execution_count": 63,
      "outputs": []
    },
    {
      "cell_type": "code",
      "source": [
        "# Load test data\n",
        "# 위 과정 경로만 바꿔서 test data 세팅\n",
        "resize_images(BASE_PATH + \"test/rock\")\n",
        "resize_images(BASE_PATH + \"test/scissor\")\n",
        "resize_images(BASE_PATH + \"test/paper\")\n",
        "(x_test, y_test) = load_data(BASE_PATH + \"test\")\n",
        "x_test_norm = x_test / 255.0"
      ],
      "metadata": {
        "colab": {
          "base_uri": "https://localhost:8080/"
        },
        "id": "-RfMFl-iT5iI",
        "outputId": "29ea87eb-c70b-44b4-ffa9-020333eb80ad"
      },
      "execution_count": 64,
      "outputs": [
        {
          "output_type": "stream",
          "name": "stdout",
          "text": [
            "604  images to be resized.\n"
          ]
        },
        {
          "output_type": "stream",
          "name": "stderr",
          "text": [
            "<ipython-input-61-5a0fe5e6b29e>:11: DeprecationWarning: ANTIALIAS is deprecated and will be removed in Pillow 10 (2023-07-01). Use LANCZOS or Resampling.LANCZOS instead.\n",
            "  new_img=old_img.resize(target_size,Image.ANTIALIAS)\n"
          ]
        },
        {
          "output_type": "stream",
          "name": "stdout",
          "text": [
            "604  images resized.\n",
            "556  images to be resized.\n",
            "556  images resized.\n",
            "629  images to be resized.\n",
            "629  images resized.\n",
            "Number of images: 1789\n"
          ]
        }
      ]
    },
    {
      "cell_type": "code",
      "source": [
        "# 모델 구성하기 Sequestial 모델 사용\n",
        "from tensorflow.keras.models import Sequential\n",
        "from tensorflow.keras.callbacks import EarlyStopping\n",
        "from tensorflow.keras.preprocessing.image import ImageDataGenerator\n",
        "\n",
        "# 데이터 증강(ImageDataGenerator() 활용)\n",
        "datagen = ImageDataGenerator(\n",
        "    rotation_range=10, # 이미지를 0~10도 사이로 랜덤하게 회전\n",
        "    zoom_range=0.1, # 0.9~1.1 사이로 랜덤하게 확대/축소\n",
        "    width_shift_range=0.1,  # 10% 범위에서 좌/우 이동\n",
        "    height_shift_range=0.1, # 10% 범위에서 상/하 이동\n",
        "    horizontal_flip=True # 좌우 반전\n",
        ")\n",
        "# train data가 너무 오버피팅(과적합) 되어서 처리 해줌\n",
        "datagen.fit(x_train_norm)\n",
        "\n",
        "# Model(Sequential) 구성 (뉴런 수 조절 : 오버피팅 방지)\n",
        "model = Sequential()\n",
        "# Layer 마다 뉴런 수 감소 : 오버피팅 방지\n",
        "model.add(tf.keras.layers.Conv2D(32, (3,3), activation='relu', input_shape=(28,28,3)))\n",
        "# BatchNormalization : 오버피팅 방지\n",
        "model.add(tf.keras.layers.BatchNormalization())\n",
        "model.add(tf.keras.layers.MaxPooling2D(2,2))\n",
        "# Dropout 추가 : 오버피팅 방지 (train data가 너무 잘 적응함) 50%에서 좀 더 방지 위해 60% 했다가 다시 50%!\n",
        "model.add(tf.keras.layers.Dropout(0.5))\n",
        "model.add(tf.keras.layers.Conv2D(16, (3,3), activation='relu'))\n",
        "# BatchNormalization : 오버피팅 방지\n",
        "model.add(tf.keras.layers.BatchNormalization())\n",
        "model.add(tf.keras.layers.MaxPooling2D((2,2)))\n",
        "# Dropout 추가 : 오버피팅 방지 (train data가 너무 잘 적응함)\n",
        "model.add(tf.keras.layers.Dropout(0.5))\n",
        "model.add(tf.keras.layers.Flatten())\n",
        "model.add(tf.keras.layers.Dense(16, activation='relu'))\n",
        "# BatchNormalization : 오버피팅 방지\n",
        "model.add(tf.keras.layers.BatchNormalization())\n",
        "# Dropout 추가 : 오버피팅 방지 (train data가 너무 잘 적응함)\n",
        "model.add(tf.keras.layers.Dropout(0.5))\n",
        "\n",
        "# 출력층\n",
        "model.add(tf.keras.layers.Dense(3, activation='softmax'))\n",
        "\n",
        "# 모델 compile 하기\n",
        "model.compile(optimizer='adam',\n",
        "              loss='sparse_categorical_crossentropy',\n",
        "              metrics=['accuracy'])\n",
        "\n",
        "# Early stopping 추가\n",
        "early_stopping = EarlyStopping(monitor='val_loss', patience=7)\n",
        "\n",
        "# 학습 및 검증 실행\n",
        "history = model.fit(x_train_norm, y_train,\n",
        "                    epochs=20,\n",
        "                    validation_data=(x_val_norm, y_val),\n",
        "                    callbacks=[early_stopping])"
      ],
      "metadata": {
        "colab": {
          "base_uri": "https://localhost:8080/"
        },
        "id": "iwLU-on2UCyG",
        "outputId": "c95d7ae5-a6e0-437d-885a-055d4995b204"
      },
      "execution_count": 65,
      "outputs": [
        {
          "output_type": "stream",
          "name": "stdout",
          "text": [
            "Epoch 1/20\n",
            "150/150 [==============================] - 8s 39ms/step - loss: 1.1227 - accuracy: 0.5469 - val_loss: 0.8289 - val_accuracy: 0.6125\n",
            "Epoch 2/20\n",
            "150/150 [==============================] - 5s 33ms/step - loss: 0.7929 - accuracy: 0.6390 - val_loss: 0.7140 - val_accuracy: 0.6550\n",
            "Epoch 3/20\n",
            "150/150 [==============================] - 6s 37ms/step - loss: 0.6817 - accuracy: 0.6819 - val_loss: 0.6486 - val_accuracy: 0.6967\n",
            "Epoch 4/20\n",
            "150/150 [==============================] - 5s 32ms/step - loss: 0.6071 - accuracy: 0.7092 - val_loss: 0.5801 - val_accuracy: 0.7300\n",
            "Epoch 5/20\n",
            "150/150 [==============================] - 5s 35ms/step - loss: 0.5831 - accuracy: 0.7258 - val_loss: 0.5175 - val_accuracy: 0.8217\n",
            "Epoch 6/20\n",
            "150/150 [==============================] - 5s 34ms/step - loss: 0.5437 - accuracy: 0.7498 - val_loss: 0.4842 - val_accuracy: 0.7933\n",
            "Epoch 7/20\n",
            "150/150 [==============================] - 4s 28ms/step - loss: 0.5201 - accuracy: 0.7721 - val_loss: 0.4662 - val_accuracy: 0.8083\n",
            "Epoch 8/20\n",
            "150/150 [==============================] - 6s 37ms/step - loss: 0.4857 - accuracy: 0.7854 - val_loss: 0.4763 - val_accuracy: 0.7875\n",
            "Epoch 9/20\n",
            "150/150 [==============================] - 5s 33ms/step - loss: 0.4472 - accuracy: 0.8096 - val_loss: 0.3350 - val_accuracy: 0.8892\n",
            "Epoch 10/20\n",
            "150/150 [==============================] - 4s 28ms/step - loss: 0.4163 - accuracy: 0.8208 - val_loss: 0.3425 - val_accuracy: 0.8908\n",
            "Epoch 11/20\n",
            "150/150 [==============================] - 5s 37ms/step - loss: 0.4144 - accuracy: 0.8335 - val_loss: 0.2620 - val_accuracy: 0.9050\n",
            "Epoch 12/20\n",
            "150/150 [==============================] - 5s 32ms/step - loss: 0.3874 - accuracy: 0.8440 - val_loss: 0.3394 - val_accuracy: 0.8650\n",
            "Epoch 13/20\n",
            "150/150 [==============================] - 4s 28ms/step - loss: 0.3786 - accuracy: 0.8485 - val_loss: 0.2329 - val_accuracy: 0.9133\n",
            "Epoch 14/20\n",
            "150/150 [==============================] - 6s 38ms/step - loss: 0.3616 - accuracy: 0.8579 - val_loss: 0.2232 - val_accuracy: 0.9133\n",
            "Epoch 15/20\n",
            "150/150 [==============================] - 5s 32ms/step - loss: 0.3573 - accuracy: 0.8579 - val_loss: 0.2624 - val_accuracy: 0.9133\n",
            "Epoch 16/20\n",
            "150/150 [==============================] - 4s 29ms/step - loss: 0.3336 - accuracy: 0.8675 - val_loss: 0.2855 - val_accuracy: 0.8742\n",
            "Epoch 17/20\n",
            "150/150 [==============================] - 6s 40ms/step - loss: 0.3200 - accuracy: 0.8754 - val_loss: 0.2003 - val_accuracy: 0.9242\n",
            "Epoch 18/20\n",
            "150/150 [==============================] - 4s 29ms/step - loss: 0.2974 - accuracy: 0.8821 - val_loss: 0.2549 - val_accuracy: 0.8850\n",
            "Epoch 19/20\n",
            "150/150 [==============================] - 4s 29ms/step - loss: 0.3136 - accuracy: 0.8769 - val_loss: 0.1913 - val_accuracy: 0.9275\n",
            "Epoch 20/20\n",
            "150/150 [==============================] - 6s 40ms/step - loss: 0.2981 - accuracy: 0.8827 - val_loss: 0.1806 - val_accuracy: 0.9350\n"
          ]
        }
      ]
    },
    {
      "cell_type": "code",
      "source": [
        "# Model evaluation(Train)\n",
        "train_loss, train_accuracy = model.evaluate(x_train_norm, y_train, verbose=2)\n",
        "print(\"train_loss: {} \".format(train_loss))\n",
        "print(\"train_accuracy: {}\".format(train_accuracy))\n",
        "\n",
        "# Model evaluation(Validation)\n",
        "val_loss, val_accuracy = model.evaluate(x_val_norm, y_val, verbose=2)\n",
        "print(\"val_loss: {} \".format(val_loss))\n",
        "print(\"val_accuracy: {}\".format(val_accuracy))\n",
        "\n",
        "# Model evaluation(Test)\n",
        "test_loss, test_accuracy = model.evaluate(x_test_norm, y_test, verbose=2)\n",
        "print(\"test_loss: {} \".format(test_loss))\n",
        "print(\"test_accuracy: {}\".format(test_accuracy))"
      ],
      "metadata": {
        "colab": {
          "base_uri": "https://localhost:8080/"
        },
        "id": "NFhkk3leUmPo",
        "outputId": "07ab77d2-3dc1-45fb-aa41-ed1d58817c7c"
      },
      "execution_count": 66,
      "outputs": [
        {
          "output_type": "stream",
          "name": "stdout",
          "text": [
            "150/150 - 1s - loss: 0.1701 - accuracy: 0.9467 - 1s/epoch - 7ms/step\n",
            "train_loss: 0.1700989305973053 \n",
            "train_accuracy: 0.9466666579246521\n",
            "38/38 - 0s - loss: 0.1806 - accuracy: 0.9350 - 270ms/epoch - 7ms/step\n",
            "val_loss: 0.18059656023979187 \n",
            "val_accuracy: 0.9350000023841858\n",
            "188/188 - 1s - loss: 0.7242 - accuracy: 0.8093 - 1s/epoch - 7ms/step\n",
            "test_loss: 0.7241796255111694 \n",
            "test_accuracy: 0.809333324432373\n"
          ]
        }
      ]
    },
    {
      "cell_type": "code",
      "source": [
        "# 시각화\n",
        "import matplotlib.pyplot as plt\n",
        "\n",
        "# Train and Validation Loss 그래프\n",
        "plt.figure(figsize=(12, 4))\n",
        "plt.subplot(1, 2, 1)\n",
        "plt.plot(history.history['loss'], label='Train Loss')\n",
        "plt.plot(history.history['val_loss'], label='Validation Loss')\n",
        "plt.title('Training and Validation Loss')\n",
        "plt.xlabel('Epochs')\n",
        "plt.ylabel('Loss')\n",
        "plt.legend()\n",
        "\n",
        "# Train and Validation Accuracy 그래프\n",
        "plt.subplot(1, 2, 2)\n",
        "plt.plot(history.history['accuracy'], label='Train Accuracy')\n",
        "plt.plot(history.history['val_accuracy'], label='Validation Accuracy')\n",
        "plt.title('Training and Validation Accuracy')\n",
        "plt.xlabel('Epochs')\n",
        "plt.ylabel('Accuracy')\n",
        "plt.legend()\n",
        "plt.show()"
      ],
      "metadata": {
        "colab": {
          "base_uri": "https://localhost:8080/",
          "height": 410
        },
        "id": "QvjGu01PjTwX",
        "outputId": "78ad5ddf-2e68-4589-8caa-beafdc7c942d"
      },
      "execution_count": 67,
      "outputs": [
        {
          "output_type": "display_data",
          "data": {
            "text/plain": [
              "<Figure size 1200x400 with 2 Axes>"
            ],
            "image/png": "[encoded data removed]"
          },
          "metadata": {}
        }
      ]
    },
    {
      "cell_type": "code",
      "source": [
        "import random\n",
        "\n",
        "# 테스트 데이터에서 무작위로 5개의 인덱스를 선택\n",
        "random_indices = random.sample(range(x_test.shape[0]), 5)\n",
        "\n",
        "# 해당 인덱스의 이미지와 라벨 가져오기\n",
        "random_images = x_test[random_indices]\n",
        "random_labels = y_test[random_indices]\n",
        "\n",
        "# 이미지에 대한 예측값 계산\n",
        "predictions = model.predict(random_images)\n",
        "\n",
        "# 예측값에서 가장 높은 확률을 가진 클래스 선택\n",
        "predicted_labels = np.argmax(predictions, axis=1)\n",
        "\n",
        "# 이미지와 예측값, 실제값 비교하기\n",
        "plt.figure(figsize=(15, 5))\n",
        "for i, index in enumerate(random_indices):\n",
        "    plt.subplot(1, 5, i + 1)\n",
        "    plt.imshow(random_images[i])\n",
        "    plt.title(f\"Predicted: {predicted_labels[i]}, True: {random_labels[i]}\")\n",
        "    plt.axis('off')\n",
        "plt.show()"
      ],
      "metadata": {
        "colab": {
          "base_uri": "https://localhost:8080/",
          "height": 277
        },
        "id": "lRuReA7oi7DB",
        "outputId": "519856de-07f2-4e2b-bf0b-90bce1fa5d2e"
      },
      "execution_count": 70,
      "outputs": [
        {
          "output_type": "stream",
          "name": "stdout",
          "text": [
            "1/1 [==============================] - 0s 21ms/step\n"
          ]
        },
        {
          "output_type": "display_data",
          "data": {
            "text/plain": [
              "<Figure size 1500x500 with 5 Axes>"
            ],
            "image/png": "[encoded data removed]"
          },
          "metadata": {}
        }
      ]
    },
    {
      "cell_type": "markdown",
      "source": [
        "# **회 고 록**\n",
        "* ## train data의 오버피팅(과적합) 방지를 위한 방법\n",
        "1. 데이터 shuffle 사용해보자 : 데이터 확장, 오버피팅 방지\n",
        "shuffle_data = np.arange(x_train.shape[0])\n",
        "np.random.shuffle(shuffle_data)\n",
        "\n",
        "2. 데이터 증강(ImageDataGenerator() 활용)\n",
        "데이터 수 회전,확대/축소 등으로 데이터 증강\n",
        "(train data : 300장 > 1200장 > 3851장)\n",
        "(validation data : 20%)\n",
        "(test data : 300장 > 1567장, 깨진 데이터 제외하고 965장 > 부족해서 추가 1789장)\n",
        "\n",
        "3. 픽셀 정규화\n",
        "x_data_norm = x_data / 255.0\n",
        "x_test_norm = x_test / 255.0\n",
        "\n",
        "4. dropout, BatchNormalization\n",
        "각 layer 사이에 dropout(50%), BatchNormalization 적용\n",
        "(train data가 너무 오버피팅 되서 조절)\n",
        "\n",
        "5. Layer 뉴런 수 감소 시키기 (128, 64, 32 > 32, 16, 16)\n",
        "\n",
        "6. 여러 부분에서 fit을 history 변수에서 한번에 train, test 한번에 fit 처리\n",
        "\n",
        "7. 실제값과 예측값 비교(test data 랜덤 5개)\n",
        "비교 중 test data 중 못 쓰는 데이터 발견, 선별 후 새로운 데이터로 재구성\n",
        "\n",
        "---\n",
        "\n",
        "## **배우고 느낀 점**\n",
        "\n",
        "test data를 더 늘리고, train data도 더 늘려서 작업해보고 싶지만 업로드와 epoch의 시간소요에 여기까지만 조절 했습니다\n",
        "\n",
        "fit 학습을 여러번 반복하면 기존 학습에 이어서 학습을 해서 제대로 학습이 안되는 부분도 배웠습니다. 코드를 중복되지 않게 구현 하는 연습도 해봐야 할 것 같다고 생각 했습니다.\n",
        "\n",
        "여러가지로 오버피팅 방지가 어렵고 관건이라고 배웠습니다. 그래도 실험해보면서 바뀌는 모습을 보면서 재밌게 작업했습니다. 여러 시도를 해보기 위해 컴퓨터 사양을 늘려야 효율적일 것 같다고 느꼈습니다.\n",
        "\n",
        "오버피팅의 어려움을 체감하고 오버피팅(과적합) 방지에 여러 방법이 있고, 왜 사용하는지를 정확하게 이해하고 사용해야 된다는 것을 배웠습니다. 시각화의 중요성도 많이 배웠습니다.\n",
        "더욱 정진 하겠습니다.\n",
        "\n",
        "---\n",
        "\n",
        "## **해결 못한 점**\n",
        "1. pred값과 실제값 비교에서 흑백 사진의 정체\n",
        "(시각화 부분에서 문제인건지, load_data 부분에서 문제인건지 확인 못했습니다)\n",
        "2. validation의 acc 그래프가 왜 이리 진동 폭이 큰지 확인 못했습니다"
      ],
      "metadata": {
        "id": "mqS9L92vePQ1"
      }
    }
  ]
}