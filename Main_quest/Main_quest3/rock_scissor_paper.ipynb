{
  "nbformat": 4,
  "nbformat_minor": 0,
  "metadata": {
    "colab": {
      "provenance": [],
      "authorship_tag": "ABX9TyPX+bbq/YSqwF9tiq99VzbT",
      "include_colab_link": true
    },
    "kernelspec": {
      "name": "python3",
      "display_name": "Python 3"
    },
    "language_info": {
      "name": "python"
    }
  },
  "cells": [
    {
      "cell_type": "markdown",
      "metadata": {
        "id": "view-in-github",
        "colab_type": "text"
      },
      "source": [
        "<a href=\"https://colab.research.google.com/github/HWMV/AIFFEL_Quest1/blob/master/Main_quest/Main_quest3/rock_scissor_paper.ipynb\" target=\"_parent\"><img src=\"https://colab.research.google.com/assets/colab-badge.svg\" alt=\"Open In Colab\"/></a>"
      ]
    },
    {
      "cell_type": "markdown",
      "source": [
        "# Main_quest3\n",
        "# rock_scissor_paper\n",
        "# 온라인 6기 코어 최현우\n",
        "\n",
        "* **루브릭**\n",
        "1. 이미지 분류기 모델이 성공적으로 만들어졌는가?\t학습과정이 정상적으로 수행되었으며, 학습 결과에 대한 그래프를 시각화(ex. train acc / train loss / val acc / val loss 등) 해 보았음\n",
        "2. 오버피팅을 극복하기 위한 적절한 시도가 있었는가?\t오버피팅 극복을 위하여 데이터셋의 다양성, 정규화 등을 2가지 이상 시도해보았음\n",
        "3. 분류모델의 test accuracy가 기준 이상 높게 나왔는가?\t85% 이상 도달하였음"
      ],
      "metadata": {
        "id": "kOUjIoJbo0on"
      }
    },
    {
      "cell_type": "code",
      "source": [
        "# 라이브러리 호출\n",
        "import tensorflow as tf\n",
        "import numpy as np\n",
        "\n",
        "print(tf.__version__)\n",
        "print(np.__version__)"
      ],
      "metadata": {
        "colab": {
          "base_uri": "https://localhost:8080/"
        },
        "id": "W3cUE8oyrZ1Z",
        "outputId": "8668da6e-9051-40b6-9c58-10bb9460eefb"
      },
      "execution_count": 35,
      "outputs": [
        {
          "output_type": "stream",
          "name": "stdout",
          "text": [
            "2.14.0\n",
            "1.23.5\n"
          ]
        }
      ]
    },
    {
      "cell_type": "code",
      "source": [
        "# 데이터 불러오기 (로컬, 구글드라이브 마운트)\n",
        "from google.colab import drive\n",
        "drive.mount('/content/drive')"
      ],
      "metadata": {
        "colab": {
          "base_uri": "https://localhost:8080/"
        },
        "id": "P2JDTWxeo08I",
        "outputId": "f7349d8d-c983-4548-ed3b-c74e422e5c7f"
      },
      "execution_count": 36,
      "outputs": [
        {
          "output_type": "stream",
          "name": "stdout",
          "text": [
            "Drive already mounted at /content/drive; to attempt to forcibly remount, call drive.mount(\"/content/drive\", force_remount=True).\n"
          ]
        }
      ]
    },
    {
      "cell_type": "code",
      "source": [
        "from PIL import Image\n",
        "import glob\n",
        "import os"
      ],
      "metadata": {
        "id": "XHNfgavkvQbu"
      },
      "execution_count": 37,
      "outputs": []
    },
    {
      "cell_type": "code",
      "source": [
        "# 데이터 불러오기2\n",
        "BASE_PATH = \"/content/drive/MyDrive/Main_quest3/\""
      ],
      "metadata": {
        "id": "jaxZ-vSasq6o"
      },
      "execution_count": 38,
      "outputs": []
    },
    {
      "cell_type": "code",
      "source": [
        "# paper 이미지 resize 하기 (28x28)\n",
        "def resize_images(img_path):\n",
        "    images=glob.glob(img_path + \"/*.jpg\")\n",
        "\n",
        "    print(len(images), \" images to be resized.\")\n",
        "\n",
        "    # 28 x 28 size 로 resize\n",
        "    target_size=(28,28)\n",
        "    for img in images:\n",
        "        old_img=Image.open(img)\n",
        "        new_img=old_img.resize(target_size,Image.ANTIALIAS)\n",
        "        new_img.save(img, \"JPEG\")\n",
        "\n",
        "    print(len(images), \" images resized.\")\n",
        "\n",
        "# 함수 이용해서 가위바위보 이미지 전부 resize\n",
        "resize_images(BASE_PATH + \"rock\")\n",
        "resize_images(BASE_PATH + \"scissor\")\n",
        "resize_images(BASE_PATH + \"paper\")\n",
        "\n",
        "print(\"resize 완료!\")\n"
      ],
      "metadata": {
        "colab": {
          "base_uri": "https://localhost:8080/"
        },
        "id": "Dgo3Iyq0u3NI",
        "outputId": "bab7d34d-accc-4879-8cb2-dfd3fb119365"
      },
      "execution_count": 39,
      "outputs": [
        {
          "output_type": "stream",
          "name": "stdout",
          "text": [
            "710  images to be resized.\n"
          ]
        },
        {
          "output_type": "stream",
          "name": "stderr",
          "text": [
            "<ipython-input-39-4fae2dba621a>:11: DeprecationWarning: ANTIALIAS is deprecated and will be removed in Pillow 10 (2023-07-01). Use LANCZOS or Resampling.LANCZOS instead.\n",
            "  new_img=old_img.resize(target_size,Image.ANTIALIAS)\n"
          ]
        },
        {
          "output_type": "stream",
          "name": "stdout",
          "text": [
            "710  images resized.\n",
            "710  images to be resized.\n",
            "710  images resized.\n",
            "753  images to be resized.\n",
            "753  images resized.\n",
            "resize 완료!\n"
          ]
        }
      ]
    },
    {
      "cell_type": "code",
      "source": [
        "# load_data 함수 만들기 (노드 참조)\n",
        "\n",
        "def load_data(img_path, number_of_data=3000):\n",
        "    img_size=28\n",
        "    color=3\n",
        "    imgs=np.zeros(number_of_data*img_size*img_size*color,dtype=np.int32).reshape(number_of_data,img_size,img_size,color)\n",
        "    labels=np.zeros(number_of_data,dtype=np.int32)\n",
        "\n",
        "    idx=0\n",
        "    for file in glob.iglob(img_path+'/scissor/*.jpg'):\n",
        "        img = np.array(Image.open(file),dtype=np.int32)\n",
        "        imgs[idx,:,:,:]=img\n",
        "        labels[idx]=0\n",
        "        idx=idx+1\n",
        "\n",
        "    for file in glob.iglob(img_path+'/rock/*.jpg'):\n",
        "        img = np.array(Image.open(file),dtype=np.int32)\n",
        "        imgs[idx,:,:,:]=img\n",
        "        labels[idx]=1\n",
        "        idx=idx+1\n",
        "\n",
        "    for file in glob.iglob(img_path+'/paper/*.jpg'):\n",
        "        img = np.array(Image.open(file),dtype=np.int32)\n",
        "        imgs[idx,:,:,:]=img\n",
        "        labels[idx]=2\n",
        "        idx=idx+1\n",
        "\n",
        "    print(\"Number of images:\", idx)\n",
        "    return imgs, labels\n",
        "\n",
        "# train data 설정\n",
        "(x_train, y_train) = load_data(BASE_PATH)\n",
        "# 데이터 정규화\n",
        "x_train_norm = x_train / 255.0\n"
      ],
      "metadata": {
        "colab": {
          "base_uri": "https://localhost:8080/"
        },
        "id": "PZ5acpPhwXe9",
        "outputId": "558805da-44de-45cd-830f-aced5a3aa234"
      },
      "execution_count": 41,
      "outputs": [
        {
          "output_type": "stream",
          "name": "stdout",
          "text": [
            "Number of images: 2173\n"
          ]
        }
      ]
    },
    {
      "cell_type": "code",
      "source": [
        "# 모델 구성하기 Sequestial 모델 사용 (뉴런 수 증감)\n",
        "from tensorflow.keras.models import Sequential\n",
        "model = Sequential()\n",
        "\n",
        "model.add(tf.keras.layers.Conv2D(64, (3,3), activation='relu', input_shape=(28,28,3)))\n",
        "model.add(tf.keras.layers.MaxPooling2D(2,2))\n",
        "model.add(tf.keras.layers.Conv2D(32, (3,3), activation='relu'))\n",
        "model.add(tf.keras.layers.MaxPooling2D((2,2)))\n",
        "model.add(tf.keras.layers.Flatten())\n",
        "model.add(tf.keras.layers.Dense(32, activation='relu'))\n",
        "model.add(tf.keras.layers.Dense(3, activation='softmax'))\n",
        "\n",
        "# 모델 compile 하기\n",
        "model.compile(optimizer='adam',\n",
        "              loss='sparse_categorical_crossentropy',\n",
        "              metrics=['accuracy'])\n",
        "\n",
        "model.fit(x_train_norm, y_train, epochs=10)\n",
        "\n",
        "train_loss, train_accuracy = model.evaluate(x_train_norm, y_train, verbose=2)\n",
        "print(\"train_loss: {} \".format(train_loss))\n",
        "print(\"train_accuracy: {}\".format(train_accuracy))"
      ],
      "metadata": {
        "colab": {
          "base_uri": "https://localhost:8080/"
        },
        "id": "iwLU-on2UCyG",
        "outputId": "5c3590e8-f0e8-462a-8f0d-53ca38a86dd7"
      },
      "execution_count": 47,
      "outputs": [
        {
          "output_type": "stream",
          "name": "stdout",
          "text": [
            "Epoch 1/10\n",
            "94/94 [==============================] - 4s 35ms/step - loss: 0.8434 - accuracy: 0.5940\n",
            "Epoch 2/10\n",
            "94/94 [==============================] - 3s 36ms/step - loss: 0.6234 - accuracy: 0.7123\n",
            "Epoch 3/10\n",
            "94/94 [==============================] - 5s 58ms/step - loss: 0.4358 - accuracy: 0.8273\n",
            "Epoch 4/10\n",
            "94/94 [==============================] - 3s 35ms/step - loss: 0.3120 - accuracy: 0.8743\n",
            "Epoch 5/10\n",
            "94/94 [==============================] - 3s 35ms/step - loss: 0.2206 - accuracy: 0.9160\n",
            "Epoch 6/10\n",
            "94/94 [==============================] - 3s 35ms/step - loss: 0.1545 - accuracy: 0.9480\n",
            "Epoch 7/10\n",
            "94/94 [==============================] - 5s 57ms/step - loss: 0.1175 - accuracy: 0.9670\n",
            "Epoch 8/10\n",
            "94/94 [==============================] - 3s 35ms/step - loss: 0.0947 - accuracy: 0.9717\n",
            "Epoch 9/10\n",
            "94/94 [==============================] - 3s 35ms/step - loss: 0.0693 - accuracy: 0.9840\n",
            "Epoch 10/10\n",
            "94/94 [==============================] - 3s 37ms/step - loss: 0.0542 - accuracy: 0.9877\n",
            "94/94 - 1s - loss: 0.0451 - accuracy: 0.9927 - 1s/epoch - 11ms/step\n",
            "train_loss: 0.04511451721191406 \n",
            "train_accuracy: 0.9926666617393494\n"
          ]
        }
      ]
    },
    {
      "cell_type": "code",
      "source": [
        "# Load test data\n",
        "# 위 과정 경로만 바꿔서 test data 세팅 (연님 사진)\n",
        "resize_images(BASE_PATH + \"test/rock\")\n",
        "resize_images(BASE_PATH + \"test/scissor\")\n",
        "resize_images(BASE_PATH + \"test/paper\")\n",
        "(x_test, y_test) = load_data(BASE_PATH + \"test\")\n",
        "x_test_norm = x_test / 255.0"
      ],
      "metadata": {
        "colab": {
          "base_uri": "https://localhost:8080/"
        },
        "id": "-RfMFl-iT5iI",
        "outputId": "a6d4a6f3-8e3b-4f02-d9b1-8e7cbde0d137"
      },
      "execution_count": 43,
      "outputs": [
        {
          "output_type": "stream",
          "name": "stdout",
          "text": [
            "100  images to be resized.\n"
          ]
        },
        {
          "output_type": "stream",
          "name": "stderr",
          "text": [
            "<ipython-input-39-4fae2dba621a>:11: DeprecationWarning: ANTIALIAS is deprecated and will be removed in Pillow 10 (2023-07-01). Use LANCZOS or Resampling.LANCZOS instead.\n",
            "  new_img=old_img.resize(target_size,Image.ANTIALIAS)\n"
          ]
        },
        {
          "output_type": "stream",
          "name": "stdout",
          "text": [
            "100  images resized.\n",
            "100  images to be resized.\n",
            "100  images resized.\n",
            "100  images to be resized.\n",
            "100  images resized.\n",
            "Number of images: 300\n"
          ]
        }
      ]
    },
    {
      "cell_type": "code",
      "source": [
        "# Model evaluation\n",
        "test_loss, test_accuracy = model.evaluate(x_test_norm, y_test, verbose=2)\n",
        "print(\"test_loss: {} \".format(test_loss))\n",
        "print(\"test_accuracy: {}\".format(test_accuracy))"
      ],
      "metadata": {
        "colab": {
          "base_uri": "https://localhost:8080/"
        },
        "id": "NFhkk3leUmPo",
        "outputId": "c7d49f79-42a7-47bb-87b3-5ad3a39cfd31"
      },
      "execution_count": 44,
      "outputs": [
        {
          "output_type": "stream",
          "name": "stdout",
          "text": [
            "94/94 - 2s - loss: 0.1893 - accuracy: 0.9627 - 2s/epoch - 20ms/step\n",
            "test_loss: 0.18933412432670593 \n",
            "test_accuracy: 0.9626666903495789\n"
          ]
        }
      ]
    },
    {
      "cell_type": "code",
      "source": [
        "# 시각화 해봅자\n",
        "import matplotlib.pyplot as plt\n",
        "\n",
        "history = model.fit(x_train_norm, y_train,\n",
        "                    epochs=10,\n",
        "                    validation_data=(x_test_norm, y_test))"
      ],
      "metadata": {
        "colab": {
          "base_uri": "https://localhost:8080/"
        },
        "id": "wGntv_KtYjGW",
        "outputId": "bd724c05-f03e-427e-f1b6-9d016b41ace1"
      },
      "execution_count": 45,
      "outputs": [
        {
          "output_type": "stream",
          "name": "stdout",
          "text": [
            "Epoch 1/10\n",
            "94/94 [==============================] - 13s 142ms/step - loss: 0.0475 - accuracy: 0.9910 - val_loss: 0.2010 - val_accuracy: 0.9647\n",
            "Epoch 2/10\n",
            "94/94 [==============================] - 12s 126ms/step - loss: 0.0360 - accuracy: 0.9933 - val_loss: 0.2406 - val_accuracy: 0.9663\n",
            "Epoch 3/10\n",
            "94/94 [==============================] - 10s 108ms/step - loss: 0.0297 - accuracy: 0.9917 - val_loss: 0.2080 - val_accuracy: 0.9647\n",
            "Epoch 4/10\n",
            "94/94 [==============================] - 10s 107ms/step - loss: 0.0229 - accuracy: 0.9947 - val_loss: 0.3373 - val_accuracy: 0.9647\n",
            "Epoch 5/10\n",
            "94/94 [==============================] - 11s 118ms/step - loss: 0.0131 - accuracy: 0.9987 - val_loss: 0.2337 - val_accuracy: 0.9647\n",
            "Epoch 6/10\n",
            "94/94 [==============================] - 11s 116ms/step - loss: 0.0102 - accuracy: 0.9990 - val_loss: 0.2834 - val_accuracy: 0.9657\n",
            "Epoch 7/10\n",
            "94/94 [==============================] - 10s 106ms/step - loss: 0.0069 - accuracy: 1.0000 - val_loss: 0.2791 - val_accuracy: 0.9660\n",
            "Epoch 8/10\n",
            "94/94 [==============================] - 12s 132ms/step - loss: 0.0080 - accuracy: 0.9987 - val_loss: 0.2714 - val_accuracy: 0.9667\n",
            "Epoch 9/10\n",
            "94/94 [==============================] - 16s 171ms/step - loss: 0.0038 - accuracy: 1.0000 - val_loss: 0.2888 - val_accuracy: 0.9663\n",
            "Epoch 10/10\n",
            "94/94 [==============================] - 12s 128ms/step - loss: 0.0039 - accuracy: 1.0000 - val_loss: 0.3101 - val_accuracy: 0.9660\n"
          ]
        }
      ]
    },
    {
      "cell_type": "code",
      "source": [
        "# # Plotting train and test accuracy\n",
        "# plt.figure(figsize=(12, 4))\n",
        "# plt.subplot(1, 2, 1)\n",
        "# plt.plot(history.history['accuracy'], '-o')\n",
        "# plt.plot(history.history['val_accuracy'], '-o')\n",
        "# plt.legend(['Train', 'Test'], loc='upper left')\n",
        "# plt.xlabel('epoch')\n",
        "# plt.ylabel('accuracy')\n",
        "# plt.title('Train & Test Accuracy')"
      ],
      "metadata": {
        "id": "3p-Y1MSrYnr0"
      },
      "execution_count": null,
      "outputs": []
    },
    {
      "cell_type": "code",
      "source": [
        "# # Plotting train and test loss\n",
        "# plt.subplot(1, 2, 2)\n",
        "# plt.plot(history.history['loss'], '-o')\n",
        "# plt.plot(history.history['val_loss'], '-o')\n",
        "# plt.legend(['Train', 'Test'], loc='upper left')\n",
        "# plt.xlabel('epoch')\n",
        "# plt.ylabel('loss')\n",
        "# plt.title('Train and Test Loss')"
      ],
      "metadata": {
        "id": "G5_Yztu9YpsS"
      },
      "execution_count": null,
      "outputs": []
    },
    {
      "cell_type": "code",
      "source": [
        "# 시각화\n",
        "import matplotlib.pyplot as plt\n",
        "\n",
        "plt.figure(figsize=(12, 4))\n",
        "\n",
        "plt.subplot(1, 2, 1)\n",
        "plt.plot(history.history['accuracy'], label='Training Accuracy')\n",
        "plt.plot(history.history['val_accuracy'], label='Validation Accuracy')\n",
        "plt.legend(loc='lower right')\n",
        "plt.title('Training and Validation Accuracy')\n",
        "\n",
        "plt.subplot(1, 2, 2)\n",
        "plt.plot(history.history['loss'], label='Training Loss')\n",
        "plt.plot(history.history['val_loss'], label='Validation Loss')\n",
        "plt.legend(loc='upper right')\n",
        "plt.title('Training and Validation Loss')\n",
        "\n",
        "plt.show()"
      ],
      "metadata": {
        "colab": {
          "base_uri": "https://localhost:8080/",
          "height": 391
        },
        "id": "QvjGu01PjTwX",
        "outputId": "e6e57a2a-fc59-46f3-e914-19f12bbefbed"
      },
      "execution_count": 50,
      "outputs": [
        {
          "output_type": "display_data",
          "data": {
            "text/plain": [
              "<Figure size 1200x400 with 2 Axes>"
            ],
            "image/png": "[encoded data removed]"
          },
          "metadata": {}
        }
      ]
    }
  ]
}