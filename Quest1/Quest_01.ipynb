{
 "cells": [
  {
   "cell_type": "markdown",
   "metadata": {
    "colab_type": "text",
    "id": "view-in-github"
   },
   "source": [
    "<a href=\"https://colab.research.google.com/github/HWMV/AIFFEL_Quest1/blob/master/Quest_01.ipynb\" target=\"_parent\"><img src=\"https://colab.research.google.com/assets/colab-badge.svg\" alt=\"Open In Colab\"/></a>"
   ]
  },
  {
   "cell_type": "code",
   "execution_count": null,
   "metadata": {
    "id": "9VUBpzwhDVo9"
   },
   "outputs": [],
   "source": [
    "#user_input = input(\"세글자를 입력하세요: \")\n",
    "\n",
    "#def palind(input):\n",
    "#  user_input.split()\n",
    "#  if user_input[0] == user_input[-1]:\n",
    "#    print(\"입력한 단어는 회문입니다\")\n",
    "#  else:\n",
    "#    print(\"입력한 단어는 회문이 아닙니다\")\n",
    "\n",
    "#palind(user_input)\n",
    "\n",
    "# 세글자 단어 회문만 해보기 step1"
   ]
  },
  {
   "cell_type": "code",
   "execution_count": null,
   "metadata": {
    "id": "nn1CkRN0X3UG"
   },
   "outputs": [],
   "source": [
    "# u_input = input(\"문장을 입력해주세요: \")\n",
    "\n",
    "# result = u_input.replace(\" \", \"\") # input 문장에서 띄어쓰기 제외\n",
    "# print(result)\n",
    "# print(len(result))\n",
    "\n",
    "# n = len(result)\n",
    "# t = round(n/2)\n",
    " # n = 23일때  // 5\n",
    " # n/2 = 11.5 = 12가 되서 멈춰야되는것\n",
    " #   = 2.5 = m  > m을 올림 = 멈춰야되는 순서\n",
    "# m = 0\n",
    "# i = -1\n",
    "\n",
    "# while True:   # True니까 무조건 돌리자!\n",
    "# for i in input():\n",
    "#  if result[m] == result[i]:\n",
    "#    m += 1\n",
    "#    i -= 1\n",
    "#    print(\"입력된 문장은 회문입니다\")\n",
    "#  elif m == t:\n",
    "#    break\n",
    "\n",
    "# 수학 공식으로 해보기 step2."
   ]
  },
  {
   "cell_type": "code",
   "execution_count": 1,
   "metadata": {
    "colab": {
     "base_uri": "https://localhost:8080/"
    },
    "id": "Jd-fYD08dJwh",
    "outputId": "8af17a0c-de54-46e3-8f61-1f2e45d2bc1e"
   },
   "outputs": [
    {
     "name": "stdout",
     "output_type": "stream",
     "text": [
      "문장을 입력해주세요: 토마토를\n",
      "문장 공백 없애기\n",
      "==================\n",
      "답변 : 입력 문장은 회문이 아닙니다.\n"
     ]
    }
   ],
   "source": [
    "u_input = input(\"문장을 입력해주세요: \")\n",
    "print(\"문장 공백 없애기\")\n",
    "print(\"==================\")\n",
    "\n",
    "word = u_input.replace(\" \", \"\") # input 문장에서 띄어쓰기 제외\n",
    "# print(result)\n",
    "# print(len(result)) 문장 길이 확인\n",
    "\n",
    "def reverse_check(word):\n",
    "  # 단어 뒤집기\n",
    "  local_reverse_word = word[::-1]\n",
    "  # 입력 단어와 뒤집은 단어 비교 후 출력\n",
    "\n",
    "  if local_reverse_word == word:\n",
    "    print(\"답변 : 입력 문장은 회문 입니다.\")\n",
    "  else:\n",
    "    print(\"답변 : 입력 문장은 회문이 아닙니다.\")\n",
    "\n",
    "# main 함수\n",
    "#def main():\n",
    "  # 단어를 입력 받기\n",
    "#  input_word = input(\"입력 문장 :\")\n",
    "\n",
    "#  print(\"==================\")\n",
    "#  print(\"입력값 : \" + input_word)\n",
    "  # 단어를 뒤집는다\n",
    "#  reverse_word = input_word[::-1]\n",
    "\n",
    "#  print(\"답 : \" + reverse_word)\n",
    "  # 회문 판별 함수\n",
    "#  reverse_check(input_word)\n",
    "reverse_check(word)\n",
    "# github에 push 해보기!!\n",
    "# Finish 문장 띄어쓰기 상관없이 모두 회문 판별 가능 step3."
   ]
  },
  {
   "cell_type": "code",
   "execution_count": null,
   "metadata": {},
   "outputs": [],
   "source": []
  }
 ],
 "metadata": {
  "colab": {
   "authorship_tag": "ABX9TyMgJlO+ULHubyX2Hj/xRZ4V",
   "include_colab_link": true,
   "provenance": []
  },
  "kernelspec": {
   "display_name": "Python 3 (ipykernel)",
   "language": "python",
   "name": "python3"
  },
  "language_info": {
   "codemirror_mode": {
    "name": "ipython",
    "version": 3
   },
   "file_extension": ".py",
   "mimetype": "text/x-python",
   "name": "python",
   "nbconvert_exporter": "python",
   "pygments_lexer": "ipython3",
   "version": "3.9.7"
  }
 },
 "nbformat": 4,
 "nbformat_minor": 1
}
